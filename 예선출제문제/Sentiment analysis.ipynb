{
 "cells": [
  {
   "cell_type": "markdown",
   "metadata": {},
   "source": [
    "# 0.Google Drive 연동\n",
    "- Colab과 Google Drive를 연동시킵니다."
   ]
  },
  {
   "cell_type": "raw",
   "metadata": {},
   "source": [
    "from google.colab import drive\n",
    "drive.mount('/content/gdrive/')"
   ]
  },
  {
   "cell_type": "markdown",
   "metadata": {},
   "source": [
    "# 1. Data Loading\n",
    "- kaggle url로 부터 받은 Data를 pandas를 통해 Loading 합니다."
   ]
  },
  {
   "cell_type": "code",
   "execution_count": 1,
   "metadata": {},
   "outputs": [],
   "source": [
    "import pandas as pd\n",
    "import numpy as np\n",
    "import matplotlib.pyplot as plt\n",
    "import seaborn as sns"
   ]
  },
  {
   "cell_type": "code",
   "execution_count": 2,
   "metadata": {},
   "outputs": [],
   "source": [
    "train = pd.read_csv(\"./sentiment_dtm_train.csv\", encoding = \"CP949\")\n",
    "test = pd.read_csv(\"./sentiment_dtm_test.csv\", encoding = \"CP949\")\n",
    "\n",
    "# 데이터 로딩하기"
   ]
  },
  {
   "cell_type": "code",
   "execution_count": 3,
   "metadata": {},
   "outputs": [
    {
     "name": "stderr",
     "output_type": "stream",
     "text": [
      "C:\\Users\\SeongMin\\AppData\\Local\\Temp/ipykernel_11600/2760025907.py:1: FutureWarning: The frame.append method is deprecated and will be removed from pandas in a future version. Use pandas.concat instead.\n",
      "  total = train.append(test, ignore_index = True)\n"
     ]
    },
    {
     "data": {
      "text/plain": [
       "(18452, 302)"
      ]
     },
     "execution_count": 3,
     "metadata": {},
     "output_type": "execute_result"
    }
   ],
   "source": [
    "total = train.append(test, ignore_index = True)\n",
    "total.shape\n",
    "# train, Test 합치기"
   ]
  },
  {
   "cell_type": "markdown",
   "metadata": {},
   "source": [
    "# 2. Exploratory Data Analysis\n",
    "- 데이터의 Feature 확인과 함께 어떠한 값을 가지는지 확인\n",
    "- 해당 데이터로 파악한 내용을 시각화 하여 논리적으로 맞는지 확인\n",
    "- 그 밖에 본인의 Insight를 가지고 시각화 해 봅시다."
   ]
  },
  {
   "cell_type": "code",
   "execution_count": 4,
   "metadata": {},
   "outputs": [
    {
     "data": {
      "text/plain": [
       "array([0, 1], dtype=int64)"
      ]
     },
     "execution_count": 4,
     "metadata": {},
     "output_type": "execute_result"
    }
   ],
   "source": [
    "# 논리적인 값 확인하기\n",
    "\n",
    "X = total.drop(columns = ['Id', 'label'])\n",
    "\n",
    "np.unique(X)\n",
    "\n",
    "# Id와 label을 제외한 모든 Feature에서 0과 1값만 갖는 Binary data라는 것을 확인합니다.\n",
    "# 이를 Binary Term Dcoumnet Matrix라고 합니다."
   ]
  },
  {
   "cell_type": "markdown",
   "metadata": {},
   "source": [
    "## 2.1 Dcoument EDA\n",
    "- 각 row는 Document를 뜻하게 됩니다.\n",
    "- 이를 통해 Document가 몇개의 word를 갖고 있는지 파악하여 시각화 해봅시다."
   ]
  },
  {
   "cell_type": "code",
   "execution_count": 5,
   "metadata": {},
   "outputs": [
    {
     "data": {
      "text/plain": [
       "<matplotlib.axes._subplots.AxesSubplot at 0x139de14b730>"
      ]
     },
     "execution_count": 5,
     "metadata": {},
     "output_type": "execute_result"
    },
    {
     "data": {
      "image/png": "[encoded data removed]",
      "text/plain": [
       "<Figure size 640x480 with 1 Axes>"
      ]
     },
     "metadata": {},
     "output_type": "display_data"
    }
   ],
   "source": [
    "# Document의 Token 갯수의 Distibution 확인\n",
    "sns.boxplot(y = X.sum(axis = 1))"
   ]
  },
  {
   "cell_type": "code",
   "execution_count": 6,
   "metadata": {},
   "outputs": [
    {
     "data": {
      "text/plain": [
       "count    18452.000000\n",
       "mean         4.120962\n",
       "std          3.583243\n",
       "min          0.000000\n",
       "25%          1.000000\n",
       "50%          3.000000\n",
       "75%          6.000000\n",
       "max         39.000000\n",
       "dtype: float64"
      ]
     },
     "execution_count": 6,
     "metadata": {},
     "output_type": "execute_result"
    }
   ],
   "source": [
    "# Document의 Token 갯수의 요약통계량 확인\n",
    "X.sum(axis = 1).describe()"
   ]
  },
  {
   "cell_type": "markdown",
   "metadata": {},
   "source": [
    "## 2.2 Word EDA\n",
    "- 각 column은 Word를 뜻하게 됩니다.\n",
    "- 이를 통해 각 Word가 몇번씩 등장하고 긍부정에서는 어떤 Word가 많이 등장하는지 확인해봅시다."
   ]
  },
  {
   "cell_type": "code",
   "execution_count": 7,
   "metadata": {},
   "outputs": [
    {
     "data": {
      "text/html": [
       "<div>\n",
       "<style scoped>\n",
       "    .dataframe tbody tr th:only-of-type {\n",
       "        vertical-align: middle;\n",
       "    }\n",
       "\n",
       "    .dataframe tbody tr th {\n",
       "        vertical-align: top;\n",
       "    }\n",
       "\n",
       "    .dataframe thead th {\n",
       "        text-align: right;\n",
       "    }\n",
       "</style>\n",
       "<table border=\"1\" class=\"dataframe\">\n",
       "  <thead>\n",
       "    <tr style=\"text-align: right;\">\n",
       "      <th></th>\n",
       "      <th>0</th>\n",
       "    </tr>\n",
       "  </thead>\n",
       "  <tbody>\n",
       "    <tr>\n",
       "      <th>정말</th>\n",
       "      <td>2316</td>\n",
       "    </tr>\n",
       "    <tr>\n",
       "      <th>너무</th>\n",
       "      <td>2007</td>\n",
       "    </tr>\n",
       "    <tr>\n",
       "      <th>진짜</th>\n",
       "      <td>1754</td>\n",
       "    </tr>\n",
       "    <tr>\n",
       "      <th>맛있어요</th>\n",
       "      <td>1211</td>\n",
       "    </tr>\n",
       "    <tr>\n",
       "      <th>여기</th>\n",
       "      <td>1140</td>\n",
       "    </tr>\n",
       "    <tr>\n",
       "      <th>다</th>\n",
       "      <td>1011</td>\n",
       "    </tr>\n",
       "    <tr>\n",
       "      <th>맛도</th>\n",
       "      <td>994</td>\n",
       "    </tr>\n",
       "    <tr>\n",
       "      <th>완전</th>\n",
       "      <td>915</td>\n",
       "    </tr>\n",
       "    <tr>\n",
       "      <th>그냥</th>\n",
       "      <td>806</td>\n",
       "    </tr>\n",
       "    <tr>\n",
       "      <th>또</th>\n",
       "      <td>798</td>\n",
       "    </tr>\n",
       "    <tr>\n",
       "      <th>더</th>\n",
       "      <td>750</td>\n",
       "    </tr>\n",
       "    <tr>\n",
       "      <th>좀</th>\n",
       "      <td>709</td>\n",
       "    </tr>\n",
       "    <tr>\n",
       "      <th>사장님</th>\n",
       "      <td>697</td>\n",
       "    </tr>\n",
       "    <tr>\n",
       "      <th>먹고</th>\n",
       "      <td>687</td>\n",
       "    </tr>\n",
       "    <tr>\n",
       "      <th>잘</th>\n",
       "      <td>648</td>\n",
       "    </tr>\n",
       "    <tr>\n",
       "      <th>많이</th>\n",
       "      <td>637</td>\n",
       "    </tr>\n",
       "    <tr>\n",
       "      <th>맛있게</th>\n",
       "      <td>607</td>\n",
       "    </tr>\n",
       "    <tr>\n",
       "      <th>맛이</th>\n",
       "      <td>598</td>\n",
       "    </tr>\n",
       "    <tr>\n",
       "      <th>맛있고</th>\n",
       "      <td>590</td>\n",
       "    </tr>\n",
       "    <tr>\n",
       "      <th>다른</th>\n",
       "      <td>581</td>\n",
       "    </tr>\n",
       "    <tr>\n",
       "      <th>그리고</th>\n",
       "      <td>571</td>\n",
       "    </tr>\n",
       "    <tr>\n",
       "      <th>친절하시고</th>\n",
       "      <td>567</td>\n",
       "    </tr>\n",
       "    <tr>\n",
       "      <th>자주</th>\n",
       "      <td>551</td>\n",
       "    </tr>\n",
       "    <tr>\n",
       "      <th>좋아요</th>\n",
       "      <td>514</td>\n",
       "    </tr>\n",
       "    <tr>\n",
       "      <th>맛은</th>\n",
       "      <td>505</td>\n",
       "    </tr>\n",
       "    <tr>\n",
       "      <th>서비스</th>\n",
       "      <td>491</td>\n",
       "    </tr>\n",
       "    <tr>\n",
       "      <th>먹었는데</th>\n",
       "      <td>488</td>\n",
       "    </tr>\n",
       "    <tr>\n",
       "      <th>친절하고</th>\n",
       "      <td>477</td>\n",
       "    </tr>\n",
       "    <tr>\n",
       "      <th>갔는데</th>\n",
       "      <td>470</td>\n",
       "    </tr>\n",
       "    <tr>\n",
       "      <th>다시</th>\n",
       "      <td>470</td>\n",
       "    </tr>\n",
       "  </tbody>\n",
       "</table>\n",
       "</div>"
      ],
      "text/plain": [
       "          0\n",
       "정말     2316\n",
       "너무     2007\n",
       "진짜     1754\n",
       "맛있어요   1211\n",
       "여기     1140\n",
       "다      1011\n",
       "맛도      994\n",
       "완전      915\n",
       "그냥      806\n",
       "또       798\n",
       "더       750\n",
       "좀       709\n",
       "사장님     697\n",
       "먹고      687\n",
       "잘       648\n",
       "많이      637\n",
       "맛있게     607\n",
       "맛이      598\n",
       "맛있고     590\n",
       "다른      581\n",
       "그리고     571\n",
       "친절하시고   567\n",
       "자주      551\n",
       "좋아요     514\n",
       "맛은      505\n",
       "서비스     491\n",
       "먹었는데    488\n",
       "친절하고    477\n",
       "갔는데     470\n",
       "다시      470"
      ]
     },
     "execution_count": 7,
     "metadata": {},
     "output_type": "execute_result"
    }
   ],
   "source": [
    "# 가장 많이 등장한 Token 30개 확인\n",
    "pd.DataFrame(X.sum(axis = 0)).sort_values(0, ascending=False).iloc[:30]"
   ]
  },
  {
   "cell_type": "code",
   "execution_count": 8,
   "metadata": {},
   "outputs": [],
   "source": [
    "label0_X = total.query('label == 0').drop(columns = ['Id', 'label'])\n",
    "label1_X = total.query('label == 1').drop(columns = ['Id', 'label'])\n",
    "\n",
    "# label 0과 1을 나눠 Id와 label columns을 드랍하여 각각 변수로 저장합니다."
   ]
  },
  {
   "cell_type": "code",
   "execution_count": 9,
   "metadata": {},
   "outputs": [
    {
     "data": {
      "text/html": [
       "<div>\n",
       "<style scoped>\n",
       "    .dataframe tbody tr th:only-of-type {\n",
       "        vertical-align: middle;\n",
       "    }\n",
       "\n",
       "    .dataframe tbody tr th {\n",
       "        vertical-align: top;\n",
       "    }\n",
       "\n",
       "    .dataframe thead th {\n",
       "        text-align: right;\n",
       "    }\n",
       "</style>\n",
       "<table border=\"1\" class=\"dataframe\">\n",
       "  <thead>\n",
       "    <tr style=\"text-align: right;\">\n",
       "      <th></th>\n",
       "      <th>0</th>\n",
       "    </tr>\n",
       "  </thead>\n",
       "  <tbody>\n",
       "    <tr>\n",
       "      <th>진짜</th>\n",
       "      <td>475</td>\n",
       "    </tr>\n",
       "    <tr>\n",
       "      <th>정말</th>\n",
       "      <td>469</td>\n",
       "    </tr>\n",
       "    <tr>\n",
       "      <th>너무</th>\n",
       "      <td>376</td>\n",
       "    </tr>\n",
       "    <tr>\n",
       "      <th>그냥</th>\n",
       "      <td>335</td>\n",
       "    </tr>\n",
       "    <tr>\n",
       "      <th>다</th>\n",
       "      <td>288</td>\n",
       "    </tr>\n",
       "    <tr>\n",
       "      <th>여기</th>\n",
       "      <td>257</td>\n",
       "    </tr>\n",
       "    <tr>\n",
       "      <th>좀</th>\n",
       "      <td>205</td>\n",
       "    </tr>\n",
       "    <tr>\n",
       "      <th>완전</th>\n",
       "      <td>194</td>\n",
       "    </tr>\n",
       "    <tr>\n",
       "      <th>서비스</th>\n",
       "      <td>189</td>\n",
       "    </tr>\n",
       "    <tr>\n",
       "      <th>맛도</th>\n",
       "      <td>182</td>\n",
       "    </tr>\n",
       "    <tr>\n",
       "      <th>더</th>\n",
       "      <td>178</td>\n",
       "    </tr>\n",
       "    <tr>\n",
       "      <th>맛은</th>\n",
       "      <td>172</td>\n",
       "    </tr>\n",
       "    <tr>\n",
       "      <th>별</th>\n",
       "      <td>167</td>\n",
       "    </tr>\n",
       "    <tr>\n",
       "      <th>왜</th>\n",
       "      <td>163</td>\n",
       "    </tr>\n",
       "    <tr>\n",
       "      <th>하고</th>\n",
       "      <td>153</td>\n",
       "    </tr>\n",
       "    <tr>\n",
       "      <th>다른</th>\n",
       "      <td>152</td>\n",
       "    </tr>\n",
       "    <tr>\n",
       "      <th>다시</th>\n",
       "      <td>148</td>\n",
       "    </tr>\n",
       "    <tr>\n",
       "      <th>다신</th>\n",
       "      <td>147</td>\n",
       "    </tr>\n",
       "    <tr>\n",
       "      <th>그리고</th>\n",
       "      <td>141</td>\n",
       "    </tr>\n",
       "    <tr>\n",
       "      <th>없고</th>\n",
       "      <td>140</td>\n",
       "    </tr>\n",
       "    <tr>\n",
       "      <th>많이</th>\n",
       "      <td>137</td>\n",
       "    </tr>\n",
       "    <tr>\n",
       "      <th>다시는</th>\n",
       "      <td>135</td>\n",
       "    </tr>\n",
       "    <tr>\n",
       "      <th>맛이</th>\n",
       "      <td>135</td>\n",
       "    </tr>\n",
       "    <tr>\n",
       "      <th>갔는데</th>\n",
       "      <td>130</td>\n",
       "    </tr>\n",
       "    <tr>\n",
       "      <th>먹고</th>\n",
       "      <td>129</td>\n",
       "    </tr>\n",
       "    <tr>\n",
       "      <th>이렇게</th>\n",
       "      <td>126</td>\n",
       "    </tr>\n",
       "    <tr>\n",
       "      <th>시켰는데</th>\n",
       "      <td>119</td>\n",
       "    </tr>\n",
       "    <tr>\n",
       "      <th>참</th>\n",
       "      <td>113</td>\n",
       "    </tr>\n",
       "    <tr>\n",
       "      <th>기분</th>\n",
       "      <td>110</td>\n",
       "    </tr>\n",
       "    <tr>\n",
       "      <th>불친절</th>\n",
       "      <td>108</td>\n",
       "    </tr>\n",
       "  </tbody>\n",
       "</table>\n",
       "</div>"
      ],
      "text/plain": [
       "        0\n",
       "진짜    475\n",
       "정말    469\n",
       "너무    376\n",
       "그냥    335\n",
       "다     288\n",
       "여기    257\n",
       "좀     205\n",
       "완전    194\n",
       "서비스   189\n",
       "맛도    182\n",
       "더     178\n",
       "맛은    172\n",
       "별     167\n",
       "왜     163\n",
       "하고    153\n",
       "다른    152\n",
       "다시    148\n",
       "다신    147\n",
       "그리고   141\n",
       "없고    140\n",
       "많이    137\n",
       "다시는   135\n",
       "맛이    135\n",
       "갔는데   130\n",
       "먹고    129\n",
       "이렇게   126\n",
       "시켰는데  119\n",
       "참     113\n",
       "기분    110\n",
       "불친절   108"
      ]
     },
     "execution_count": 9,
     "metadata": {},
     "output_type": "execute_result"
    }
   ],
   "source": [
    "# 부정에서 가장 많이 등장한 Token 30개 확인\n",
    "pd.DataFrame(label0_X.sum(axis = 0)).sort_values(0, ascending=False).iloc[:30]"
   ]
  },
  {
   "cell_type": "code",
   "execution_count": 10,
   "metadata": {},
   "outputs": [
    {
     "data": {
      "text/html": [
       "<div>\n",
       "<style scoped>\n",
       "    .dataframe tbody tr th:only-of-type {\n",
       "        vertical-align: middle;\n",
       "    }\n",
       "\n",
       "    .dataframe tbody tr th {\n",
       "        vertical-align: top;\n",
       "    }\n",
       "\n",
       "    .dataframe thead th {\n",
       "        text-align: right;\n",
       "    }\n",
       "</style>\n",
       "<table border=\"1\" class=\"dataframe\">\n",
       "  <thead>\n",
       "    <tr style=\"text-align: right;\">\n",
       "      <th></th>\n",
       "      <th>0</th>\n",
       "    </tr>\n",
       "  </thead>\n",
       "  <tbody>\n",
       "    <tr>\n",
       "      <th>정말</th>\n",
       "      <td>718</td>\n",
       "    </tr>\n",
       "    <tr>\n",
       "      <th>너무</th>\n",
       "      <td>645</td>\n",
       "    </tr>\n",
       "    <tr>\n",
       "      <th>맛있어요</th>\n",
       "      <td>604</td>\n",
       "    </tr>\n",
       "    <tr>\n",
       "      <th>진짜</th>\n",
       "      <td>453</td>\n",
       "    </tr>\n",
       "    <tr>\n",
       "      <th>맛도</th>\n",
       "      <td>335</td>\n",
       "    </tr>\n",
       "    <tr>\n",
       "      <th>여기</th>\n",
       "      <td>331</td>\n",
       "    </tr>\n",
       "    <tr>\n",
       "      <th>또</th>\n",
       "      <td>320</td>\n",
       "    </tr>\n",
       "    <tr>\n",
       "      <th>맛있게</th>\n",
       "      <td>293</td>\n",
       "    </tr>\n",
       "    <tr>\n",
       "      <th>맛있고</th>\n",
       "      <td>290</td>\n",
       "    </tr>\n",
       "    <tr>\n",
       "      <th>사장님</th>\n",
       "      <td>268</td>\n",
       "    </tr>\n",
       "    <tr>\n",
       "      <th>친절하시고</th>\n",
       "      <td>267</td>\n",
       "    </tr>\n",
       "    <tr>\n",
       "      <th>완전</th>\n",
       "      <td>255</td>\n",
       "    </tr>\n",
       "    <tr>\n",
       "      <th>자주</th>\n",
       "      <td>246</td>\n",
       "    </tr>\n",
       "    <tr>\n",
       "      <th>좋아요</th>\n",
       "      <td>240</td>\n",
       "    </tr>\n",
       "    <tr>\n",
       "      <th>다</th>\n",
       "      <td>239</td>\n",
       "    </tr>\n",
       "    <tr>\n",
       "      <th>친절하고</th>\n",
       "      <td>237</td>\n",
       "    </tr>\n",
       "    <tr>\n",
       "      <th>잘</th>\n",
       "      <td>234</td>\n",
       "    </tr>\n",
       "    <tr>\n",
       "      <th>좋고</th>\n",
       "      <td>231</td>\n",
       "    </tr>\n",
       "    <tr>\n",
       "      <th>먹고</th>\n",
       "      <td>228</td>\n",
       "    </tr>\n",
       "    <tr>\n",
       "      <th>깔끔하고</th>\n",
       "      <td>217</td>\n",
       "    </tr>\n",
       "    <tr>\n",
       "      <th>많이</th>\n",
       "      <td>205</td>\n",
       "    </tr>\n",
       "    <tr>\n",
       "      <th>사장님도</th>\n",
       "      <td>204</td>\n",
       "    </tr>\n",
       "    <tr>\n",
       "      <th>더</th>\n",
       "      <td>199</td>\n",
       "    </tr>\n",
       "    <tr>\n",
       "      <th>특히</th>\n",
       "      <td>185</td>\n",
       "    </tr>\n",
       "    <tr>\n",
       "      <th>먹었는데</th>\n",
       "      <td>176</td>\n",
       "    </tr>\n",
       "    <tr>\n",
       "      <th>맛있었어요</th>\n",
       "      <td>175</td>\n",
       "    </tr>\n",
       "    <tr>\n",
       "      <th>맛이</th>\n",
       "      <td>173</td>\n",
       "    </tr>\n",
       "    <tr>\n",
       "      <th>꼭</th>\n",
       "      <td>170</td>\n",
       "    </tr>\n",
       "    <tr>\n",
       "      <th>맛있네요</th>\n",
       "      <td>163</td>\n",
       "    </tr>\n",
       "    <tr>\n",
       "      <th>양도</th>\n",
       "      <td>162</td>\n",
       "    </tr>\n",
       "  </tbody>\n",
       "</table>\n",
       "</div>"
      ],
      "text/plain": [
       "         0\n",
       "정말     718\n",
       "너무     645\n",
       "맛있어요   604\n",
       "진짜     453\n",
       "맛도     335\n",
       "여기     331\n",
       "또      320\n",
       "맛있게    293\n",
       "맛있고    290\n",
       "사장님    268\n",
       "친절하시고  267\n",
       "완전     255\n",
       "자주     246\n",
       "좋아요    240\n",
       "다      239\n",
       "친절하고   237\n",
       "잘      234\n",
       "좋고     231\n",
       "먹고     228\n",
       "깔끔하고   217\n",
       "많이     205\n",
       "사장님도   204\n",
       "더      199\n",
       "특히     185\n",
       "먹었는데   176\n",
       "맛있었어요  175\n",
       "맛이     173\n",
       "꼭      170\n",
       "맛있네요   163\n",
       "양도     162"
      ]
     },
     "execution_count": 10,
     "metadata": {},
     "output_type": "execute_result"
    }
   ],
   "source": [
    "# 긍정에서 가장 많이 등장한 Token 30개 확인\n",
    "pd.DataFrame(label1_X.sum(axis = 0)).sort_values(0, ascending=False).iloc[:30]"
   ]
  },
  {
   "cell_type": "markdown",
   "metadata": {},
   "source": [
    "## 2.3 Label Distribution 확인하기\n",
    "- 각각의 긍부정이 몇대 몇인지 확인해봅시다."
   ]
  },
  {
   "cell_type": "code",
   "execution_count": 11,
   "metadata": {},
   "outputs": [
    {
     "data": {
      "text/plain": [
       "1    5402\n",
       "0    4050\n",
       "Name: label, dtype: int64"
      ]
     },
     "execution_count": 11,
     "metadata": {},
     "output_type": "execute_result"
    }
   ],
   "source": [
    "train['label'].value_counts()"
   ]
  },
  {
   "cell_type": "code",
   "execution_count": 12,
   "metadata": {},
   "outputs": [
    {
     "data": {
      "text/plain": [
       "1    0.571519\n",
       "0    0.428481\n",
       "Name: label, dtype: float64"
      ]
     },
     "execution_count": 12,
     "metadata": {},
     "output_type": "execute_result"
    }
   ],
   "source": [
    "train['label'].value_counts('percentage')"
   ]
  },
  {
   "cell_type": "markdown",
   "metadata": {},
   "source": [
    "# 3. Modeling : Classification\n",
    "- Logistic Regression\n",
    "- KNN\n",
    "- 각각의 Hyperparaparameter를 튜닝시켜 가장 좋은 성능 모델로 Test를 진행하여 체점을 진행해보겠습니다."
   ]
  },
  {
   "cell_type": "code",
   "execution_count": 13,
   "metadata": {},
   "outputs": [],
   "source": [
    "from sklearn.linear_model import LogisticRegression\n",
    "from sklearn.neighbors import KNeighborsClassifier"
   ]
  },
  {
   "cell_type": "code",
   "execution_count": 14,
   "metadata": {},
   "outputs": [
    {
     "data": {
      "text/plain": [
       "((9452, 300), (9452,))"
      ]
     },
     "execution_count": 14,
     "metadata": {},
     "output_type": "execute_result"
    }
   ],
   "source": [
    "# train 데이터의 X와 y를 split시킵니다.\n",
    "X = train.drop(columns = ['Id','label'])\n",
    "y = train['label']\n",
    "\n",
    "X.shape, y.shape"
   ]
  },
  {
   "cell_type": "markdown",
   "metadata": {},
   "source": [
    "# 3.2 Hyper-parameter Searching\n",
    "- Grid Search 방법을 진행합니다. (설정한 모든 경우의 조합으로 성능을 평가함.)\n",
    "- 이를 5-Fold Cross Validation을 통해 가장 좋았던 파라미터를 찾습니다."
   ]
  },
  {
   "cell_type": "code",
   "execution_count": 15,
   "metadata": {},
   "outputs": [],
   "source": [
    "from sklearn.model_selection import GridSearchCV\n",
    "from sklearn.metrics import accuracy_score, classification_report"
   ]
  },
  {
   "cell_type": "code",
   "execution_count": 16,
   "metadata": {},
   "outputs": [],
   "source": [
    "algorithmes = [LogisticRegression(), KNeighborsClassifier(n_jobs=-1)]"
   ]
  },
  {
   "cell_type": "code",
   "execution_count": 17,
   "metadata": {},
   "outputs": [],
   "source": [
    "##실험 파라미터 셋팅###\n",
    "params = []\n",
    "params.append([{\n",
    "    \"solver\" : [\"saga\"],\n",
    "    \"penalty\" : [\"l1\"],\n",
    "    \"C\" : [0.1,  5.0, 7.0, 10.0, 15.0, 20.0, 100.0]\n",
    "    },{\n",
    "    \"solver\" : ['liblinear'],\n",
    "    \"penalty\" : [\"l2\"],\n",
    "    \"C\" : [0.1,  5.0, 7.0, 10.0, 15.0, 20.0, 100.0]\n",
    "    }\n",
    "    ]) #Logistic Regression 하이퍼 파라미터\n",
    "\n",
    "params.append({\n",
    "    \"p\":[int(i) for i in range(1,3)],\n",
    "    \"n_neighbors\":[i for i in range(2, 5)]}) #KNN 하이퍼 파라미터"
   ]
  },
  {
   "cell_type": "code",
   "execution_count": 18,
   "metadata": {},
   "outputs": [
    {
     "name": "stdout",
     "output_type": "stream",
     "text": [
      "GridSearchCV(cv=5, error_score=nan,\n",
      "             estimator=LogisticRegression(C=1.0, class_weight=None, dual=False,\n",
      "                                          fit_intercept=True,\n",
      "                                          intercept_scaling=1, l1_ratio=None,\n",
      "                                          max_iter=100, multi_class='auto',\n",
      "                                          n_jobs=None, penalty='l2',\n",
      "                                          random_state=None, solver='lbfgs',\n",
      "                                          tol=0.0001, verbose=0,\n",
      "                                          warm_start=False),\n",
      "             iid='deprecated', n_jobs=4,\n",
      "             param_grid=[{'C': [0.1, 5.0, 7.0, 10.0, 15.0, 20.0, 100.0],\n",
      "                          'penalty': ['l1'], 'solver': ['saga']},\n",
      "                         {'C': [0.1, 5.0, 7.0, 10.0, 15.0, 20.0, 100.0],\n",
      "                          'penalty': ['l2'], 'solver': ['liblinear']}],\n",
      "             pre_dispatch='2*n_jobs', refit='accuracy',\n",
      "             return_train_score=False, scoring=['accuracy'], verbose=1)\n",
      "Fitting 5 folds for each of 14 candidates, totalling 70 fits\n"
     ]
    },
    {
     "name": "stderr",
     "output_type": "stream",
     "text": [
      "[Parallel(n_jobs=4)]: Using backend LokyBackend with 4 concurrent workers.\n",
      "[Parallel(n_jobs=4)]: Done  42 tasks      | elapsed:  1.0min\n",
      "[Parallel(n_jobs=4)]: Done  70 out of  70 | elapsed:  1.1min finished\n"
     ]
    },
    {
     "name": "stdout",
     "output_type": "stream",
     "text": [
      "GridSearchCV(cv=5, error_score=nan,\n",
      "             estimator=KNeighborsClassifier(algorithm='auto', leaf_size=30,\n",
      "                                            metric='minkowski',\n",
      "                                            metric_params=None, n_jobs=-1,\n",
      "                                            n_neighbors=5, p=2,\n",
      "                                            weights='uniform'),\n",
      "             iid='deprecated', n_jobs=4,\n",
      "             param_grid={'n_neighbors': [2, 3, 4], 'p': [1, 2]},\n",
      "             pre_dispatch='2*n_jobs', refit='accuracy',\n",
      "             return_train_score=False, scoring=['accuracy'], verbose=1)\n",
      "Fitting 5 folds for each of 6 candidates, totalling 30 fits\n"
     ]
    },
    {
     "name": "stderr",
     "output_type": "stream",
     "text": [
      "[Parallel(n_jobs=4)]: Using backend LokyBackend with 4 concurrent workers.\n",
      "[Parallel(n_jobs=4)]: Done  30 out of  30 | elapsed:  1.3min finished\n"
     ]
    }
   ],
   "source": [
    "#### 5 - Fold Cross Validation & Accuracy\n",
    "scoring = ['accuracy']\n",
    "estimator_results = []\n",
    "for i, (estimator, params) in enumerate(zip(algorithmes,params)):\n",
    "    gs_estimator = GridSearchCV(\n",
    "            refit=\"accuracy\", estimator=estimator,param_grid=params, scoring=scoring, cv=5, verbose=1, n_jobs=4)\n",
    "    print(gs_estimator)\n",
    "\n",
    "    gs_estimator.fit(X, y)\n",
    "    estimator_results.append(gs_estimator)"
   ]
  },
  {
   "cell_type": "code",
   "execution_count": 19,
   "metadata": {},
   "outputs": [
    {
     "name": "stdout",
     "output_type": "stream",
     "text": [
      "Logistic의 가장 좋은 성능은  0.7896731664050542\n",
      "KNN의 가장 좋은 성능은  0.6977328979655791\n"
     ]
    }
   ],
   "source": [
    "print(\"Logistic의 가장 좋은 성능은 \",estimator_results[0].best_score_)\n",
    "print(\"KNN의 가장 좋은 성능은 \",estimator_results[1].best_score_)"
   ]
  },
  {
   "cell_type": "code",
   "execution_count": 20,
   "metadata": {},
   "outputs": [
    {
     "name": "stdout",
     "output_type": "stream",
     "text": [
      "Coefficient가 가장 큰 30개의 Feature 확인\n"
     ]
    },
    {
     "data": {
      "text/plain": [
       "array([['다신', '다시는', '불친절', '불친절하고', '그냥', '없고', '차라리', '아깝다', '최악',\n",
       "        '없음', '손님', '가지마세요', '아줌마', '절대', '비추', '왜', '무슨', '별', '아니고',\n",
       "        '싸가지', '아까움', '그렇게', '서비스', '시켰는데', '이건', '돈', '기분', '전화를',\n",
       "        '어떻게', '제대로', '손님이', '참', '서비스는', '아', '없네요', '그럼', '했더니', '전화',\n",
       "        '다시', '하나도', '걍', '사람이', '장사', '서비스가', '얼마나', '이제', '맛은', '하고',\n",
       "        '별로', '사람', '지금', '반찬', '없어요', '뭐', '없는', '보고', '하니', '거의', '주고',\n",
       "        '있는데', '다', '계속', '직원들', '했는데', '먼저', '원래', '내가', '먹는', '진심',\n",
       "        '않고', '내', '그', '음식을', '솔직히', '기분이', '갔는데', '식당', '서비스도', '주문',\n",
       "        '미리', '진짜', '그런', '하나', '좀', '비해', '하면', '하지만', '같은', '그래서',\n",
       "        '집에서', '그래도', '글', '하는데', '이렇게', '때문에', '나오고', '안', '이', '말',\n",
       "        '가격은', '아니라', '없이', '아주머니', '평가', '없어서', '싶네요', '가서', '밥', '갔다가',\n",
       "        '배달', '시켜', '고기가', '매우', '바로', '하네요', '곳', '처음', '할', '와', '앞으로',\n",
       "        '양이', '것', '음식이', '전에', '가고', '이런', '나와서', '한', '배달이', '다른',\n",
       "        '고기', '가격', '먹는데', '제', '오늘', '그리고', '시켜먹었는데', '여긴', '더', '너무',\n",
       "        '탕수육', '훨씬', '하는', '많이', '그런데', '왔는데', '갔었는데', '여기서', '치킨', '주인',\n",
       "        '근데', '나오는', '여기는', '피자', '정말', '듯', '갈때마다', '모두', '해서', '완전',\n",
       "        '맛을', '가게', '가격에', '먹어본', '가격이', '제가', '맛이', '밑에', '굉장히', '음식',\n",
       "        '기분좋게', '같이', '왔습니다', '양도', '입니다', '먹을', '저도', '직원들도', '합니다',\n",
       "        '있고', '가면', '여기', '우리', '있습니다', '음식도', '암튼', '이집', '사람들이', '그런지',\n",
       "        '먹은', '있는', '고기도', '많아서', '요즘', '딱', '먹으러', '엄청', '일단', '한번',\n",
       "        '와서', '어제', '다들', '같네요', '제일', '가봤는데', '저희', '먹었는데', '가격대비', '맛',\n",
       "        '가끔', '아주', '먹고', '가장', '집', '친절', '맛있다고', '오랜만에', '같습니다', '좋은',\n",
       "        '가격도', '다음에', '있어서', '개인적으로', '넘', '맛도', '역시', '너무너무', '수',\n",
       "        '반찬도', '직접', '조금', '함께', '짬뽕', '여기가', '좋아서', '인테리어도', '잘', '젤',\n",
       "        '감사합니다', '배달도', '먹었습니다', '먹었어요', '같아요', '우연히', '국물이', '깨끗하고',\n",
       "        '갑니다', '추천합니다', '분위기', '좋았습니다', '사장님', '맛있었습니다', '먹어봤는데', '친절하게',\n",
       "        '사장님이', '친절해서', '맛나게', '항상', '전', '맛집', '분위기도', '저는', '추천',\n",
       "        '맛있는', '꼭', '또', '많고', '무엇보다', '난', '직원분들도', '저렴하고', '맛있더라구요',\n",
       "        '좋습니다', '특히', '맛있어서', '짱짱', '친절하셔서', '번창하세요', '좋았어요', '자주', '굿',\n",
       "        '대박', '짱', '사장님도', '좋네요', '맛나요', '강추', '좋아요', '깔끔하고', '최고',\n",
       "        '맛있음', '맛있습니다', '좋고', '맛있게', '맛있었어요', '맛있네요', '친절하시고', '친절하고',\n",
       "        '맛있고', '맛있어요']], dtype=object)"
      ]
     },
     "execution_count": 20,
     "metadata": {},
     "output_type": "execute_result"
    }
   ],
   "source": [
    "# Logistic를 통한 가장 좋은 Feature 확인\n",
    " \n",
    "# estimator_results[0].best_estimator_.coef_\n",
    "feature_name = X.columns.to_numpy()\n",
    "\n",
    "print(\"Coefficient가 가장 큰 30개의 Feature 확인\")\n",
    "feature_name[estimator_results[0].best_estimator_.coef_.argsort()[::-1]][:30]"
   ]
  },
  {
   "cell_type": "markdown",
   "metadata": {},
   "source": [
    "# 3.3 Final Model Training\n",
    "- 가장 좋은 Model과 Hyperparameter를 통해 Train set 전체를 학습시켜 최종적인 Test set을 예측합니다."
   ]
  },
  {
   "cell_type": "code",
   "execution_count": 21,
   "metadata": {},
   "outputs": [
    {
     "data": {
      "text/plain": [
       "LogisticRegression(C=0.1, class_weight=None, dual=False, fit_intercept=True,\n",
       "                   intercept_scaling=1, l1_ratio=None, max_iter=100,\n",
       "                   multi_class='auto', n_jobs=None, penalty='l2',\n",
       "                   random_state=None, solver='liblinear', tol=0.0001, verbose=0,\n",
       "                   warm_start=False)"
      ]
     },
     "execution_count": 21,
     "metadata": {},
     "output_type": "execute_result"
    }
   ],
   "source": [
    "final_model = estimator_results[0].best_estimator_\n",
    "final_model.fit(X, y)"
   ]
  },
  {
   "cell_type": "markdown",
   "metadata": {},
   "source": [
    "# 3.4 Test 예측하기\n",
    "- Id, label로 구성된 dataframe을 만들어 제출합니다."
   ]
  },
  {
   "cell_type": "code",
   "execution_count": 22,
   "metadata": {},
   "outputs": [],
   "source": [
    "X_test = test.drop(columns='Id')"
   ]
  },
  {
   "cell_type": "code",
   "execution_count": 23,
   "metadata": {},
   "outputs": [],
   "source": [
    "y_pred = final_model.predict(X_test)"
   ]
  },
  {
   "cell_type": "code",
   "execution_count": 24,
   "metadata": {},
   "outputs": [],
   "source": [
    "# 제출 파일 만들기\n",
    "submission_df = pd.DataFrame()\n",
    "submission_df['Id'] = test['Id'] #ID\n",
    "submission_df['label'] = y_pred #예측값"
   ]
  },
  {
   "cell_type": "code",
   "execution_count": 25,
   "metadata": {},
   "outputs": [],
   "source": [
    "submission_df.to_csv(\"submission_result.csv\",index=False, encoding = 'utf8')"
   ]
  }
 ],
 "metadata": {
  "celltoolbar": "Edit Metadata",
  "colab": {
   "authorship_tag": "ABX9TyNUh/WUI2VHtmT0fQzjlvaf",
   "collapsed_sections": [],
   "name": "Guideline.ipynb",
   "provenance": [],
   "toc_visible": true
  },
  "kernelspec": {
   "display_name": "Python 3 (ipykernel)",
   "language": "python",
   "name": "python3"
  },
  "language_info": {
   "codemirror_mode": {
    "name": "ipython",
    "version": 3
   },
   "file_extension": ".py",
   "mimetype": "text/x-python",
   "name": "python",
   "nbconvert_exporter": "python",
   "pygments_lexer": "ipython3",
   "version": "3.8.3"
  }
 },
 "nbformat": 4,
 "nbformat_minor": 1
}
