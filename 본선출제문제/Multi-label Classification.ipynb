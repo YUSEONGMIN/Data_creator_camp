{
 "cells": [
  {
   "cell_type": "markdown",
   "metadata": {},
   "source": [
    "# 0. 코랩환경 구성하기\n",
    "- Data 연동하기"
   ]
  },
  {
   "cell_type": "raw",
   "metadata": {},
   "source": [
    "import os\n",
    "from pydrive.auth import GoogleAuth\n",
    "from pydrive.drive import GoogleDrive\n",
    "from google.colab import auth\n",
    "from oauth2client.client import GoogleCredentials\n",
    "auth.authenticate_user()\n",
    "gauth = GoogleAuth()\n",
    "gauth.credentials = GoogleCredentials.get_application_default()\n",
    "drive = GoogleDrive(gauth)"
   ]
  },
  {
   "cell_type": "markdown",
   "metadata": {},
   "source": [
    "# A. Machine Learning"
   ]
  },
  {
   "cell_type": "raw",
   "metadata": {},
   "source": [
    "# train url : https://drive.google.com/file/d/1VjtFvAkIwCGNmUsK2hquayN0GjuUP1vZ/view?usp=sharing\n",
    "# test url : https://drive.google.com/file/d/18rNhxsauakGajIE1mjedwnQvWlR4ibXF/view?usp=sharing\n",
    "download = drive.CreateFile({\"id\": \"1VjtFvAkIwCGNmUsK2hquayN0GjuUP1vZ\"}) #이부분 수정하면 됩니다\n",
    "download.GetContentFile(\"train.pkl\")\n",
    "download = drive.CreateFile({\"id\": \"18rNhxsauakGajIE1mjedwnQvWlR4ibXF\"}) #이부분 수정하면 됩니다\n",
    "download.GetContentFile(\"test.pkl\")"
   ]
  },
  {
   "cell_type": "code",
   "execution_count": 1,
   "metadata": {},
   "outputs": [],
   "source": [
    "import pandas as pd\n",
    "import numpy as np\n",
    "import matplotlib.pyplot as plt"
   ]
  },
  {
   "cell_type": "markdown",
   "metadata": {},
   "source": [
    "# 1. Data Loading\n",
    "- Train data를 로딩합니다.\n",
    "- Test data를 로딩합니다.\n",
    "- shape을 확인합니다."
   ]
  },
  {
   "cell_type": "code",
   "execution_count": 2,
   "metadata": {},
   "outputs": [
    {
     "data": {
      "text/plain": [
       "((600, 3073), (300, 3072))"
      ]
     },
     "execution_count": 2,
     "metadata": {},
     "output_type": "execute_result"
    }
   ],
   "source": [
    "train = pd.read_pickle(\"./A34_ml_train.pkl\")\n",
    "test = pd.read_pickle(\"./A34_ml_test.pkl\")\n",
    "train.shape, test.shape"
   ]
  },
  {
   "cell_type": "code",
   "execution_count": 3,
   "metadata": {},
   "outputs": [
    {
     "data": {
      "text/html": [
       "<div>\n",
       "<style scoped>\n",
       "    .dataframe tbody tr th:only-of-type {\n",
       "        vertical-align: middle;\n",
       "    }\n",
       "\n",
       "    .dataframe tbody tr th {\n",
       "        vertical-align: top;\n",
       "    }\n",
       "\n",
       "    .dataframe thead th {\n",
       "        text-align: right;\n",
       "    }\n",
       "</style>\n",
       "<table border=\"1\" class=\"dataframe\">\n",
       "  <thead>\n",
       "    <tr style=\"text-align: right;\">\n",
       "      <th></th>\n",
       "      <th>0</th>\n",
       "      <th>1</th>\n",
       "      <th>2</th>\n",
       "      <th>3</th>\n",
       "      <th>4</th>\n",
       "      <th>5</th>\n",
       "      <th>6</th>\n",
       "      <th>7</th>\n",
       "      <th>8</th>\n",
       "      <th>9</th>\n",
       "      <th>...</th>\n",
       "      <th>3063</th>\n",
       "      <th>3064</th>\n",
       "      <th>3065</th>\n",
       "      <th>3066</th>\n",
       "      <th>3067</th>\n",
       "      <th>3068</th>\n",
       "      <th>3069</th>\n",
       "      <th>3070</th>\n",
       "      <th>3071</th>\n",
       "      <th>label</th>\n",
       "    </tr>\n",
       "  </thead>\n",
       "  <tbody>\n",
       "    <tr>\n",
       "      <th>0</th>\n",
       "      <td>0.160784</td>\n",
       "      <td>0.121569</td>\n",
       "      <td>0.129412</td>\n",
       "      <td>0.149020</td>\n",
       "      <td>0.109804</td>\n",
       "      <td>0.117647</td>\n",
       "      <td>0.062745</td>\n",
       "      <td>0.047059</td>\n",
       "      <td>0.039216</td>\n",
       "      <td>0.070588</td>\n",
       "      <td>...</td>\n",
       "      <td>0.054902</td>\n",
       "      <td>0.054902</td>\n",
       "      <td>0.054902</td>\n",
       "      <td>0.039216</td>\n",
       "      <td>0.039216</td>\n",
       "      <td>0.039216</td>\n",
       "      <td>0.003922</td>\n",
       "      <td>0.003922</td>\n",
       "      <td>0.003922</td>\n",
       "      <td>3</td>\n",
       "    </tr>\n",
       "    <tr>\n",
       "      <th>1</th>\n",
       "      <td>0.964706</td>\n",
       "      <td>0.964706</td>\n",
       "      <td>0.960784</td>\n",
       "      <td>0.866667</td>\n",
       "      <td>0.866667</td>\n",
       "      <td>0.850980</td>\n",
       "      <td>0.854902</td>\n",
       "      <td>0.854902</td>\n",
       "      <td>0.839216</td>\n",
       "      <td>0.854902</td>\n",
       "      <td>...</td>\n",
       "      <td>0.854902</td>\n",
       "      <td>0.858824</td>\n",
       "      <td>0.862745</td>\n",
       "      <td>0.843137</td>\n",
       "      <td>0.847059</td>\n",
       "      <td>0.850980</td>\n",
       "      <td>0.952941</td>\n",
       "      <td>0.952941</td>\n",
       "      <td>0.952941</td>\n",
       "      <td>3</td>\n",
       "    </tr>\n",
       "    <tr>\n",
       "      <th>2</th>\n",
       "      <td>0.564706</td>\n",
       "      <td>0.415686</td>\n",
       "      <td>0.180392</td>\n",
       "      <td>0.478431</td>\n",
       "      <td>0.349020</td>\n",
       "      <td>0.149020</td>\n",
       "      <td>0.450980</td>\n",
       "      <td>0.317647</td>\n",
       "      <td>0.129412</td>\n",
       "      <td>0.450980</td>\n",
       "      <td>...</td>\n",
       "      <td>0.788235</td>\n",
       "      <td>0.686275</td>\n",
       "      <td>0.509804</td>\n",
       "      <td>0.698039</td>\n",
       "      <td>0.611765</td>\n",
       "      <td>0.454902</td>\n",
       "      <td>0.729412</td>\n",
       "      <td>0.611765</td>\n",
       "      <td>0.411765</td>\n",
       "      <td>3</td>\n",
       "    </tr>\n",
       "    <tr>\n",
       "      <th>3</th>\n",
       "      <td>0.396078</td>\n",
       "      <td>0.286275</td>\n",
       "      <td>0.152941</td>\n",
       "      <td>0.411765</td>\n",
       "      <td>0.286275</td>\n",
       "      <td>0.145098</td>\n",
       "      <td>0.419608</td>\n",
       "      <td>0.286275</td>\n",
       "      <td>0.141176</td>\n",
       "      <td>0.423529</td>\n",
       "      <td>...</td>\n",
       "      <td>0.654902</td>\n",
       "      <td>0.501961</td>\n",
       "      <td>0.360784</td>\n",
       "      <td>0.717647</td>\n",
       "      <td>0.611765</td>\n",
       "      <td>0.470588</td>\n",
       "      <td>0.823529</td>\n",
       "      <td>0.752941</td>\n",
       "      <td>0.627451</td>\n",
       "      <td>3</td>\n",
       "    </tr>\n",
       "    <tr>\n",
       "      <th>4</th>\n",
       "      <td>0.309804</td>\n",
       "      <td>0.203922</td>\n",
       "      <td>0.160784</td>\n",
       "      <td>0.415686</td>\n",
       "      <td>0.278431</td>\n",
       "      <td>0.215686</td>\n",
       "      <td>0.588235</td>\n",
       "      <td>0.403922</td>\n",
       "      <td>0.294118</td>\n",
       "      <td>0.631373</td>\n",
       "      <td>...</td>\n",
       "      <td>0.356863</td>\n",
       "      <td>0.305882</td>\n",
       "      <td>0.290196</td>\n",
       "      <td>0.298039</td>\n",
       "      <td>0.239216</td>\n",
       "      <td>0.215686</td>\n",
       "      <td>0.223529</td>\n",
       "      <td>0.180392</td>\n",
       "      <td>0.168627</td>\n",
       "      <td>3</td>\n",
       "    </tr>\n",
       "  </tbody>\n",
       "</table>\n",
       "<p>5 rows × 3073 columns</p>\n",
       "</div>"
      ],
      "text/plain": [
       "          0         1         2         3         4         5         6  \\\n",
       "0  0.160784  0.121569  0.129412  0.149020  0.109804  0.117647  0.062745   \n",
       "1  0.964706  0.964706  0.960784  0.866667  0.866667  0.850980  0.854902   \n",
       "2  0.564706  0.415686  0.180392  0.478431  0.349020  0.149020  0.450980   \n",
       "3  0.396078  0.286275  0.152941  0.411765  0.286275  0.145098  0.419608   \n",
       "4  0.309804  0.203922  0.160784  0.415686  0.278431  0.215686  0.588235   \n",
       "\n",
       "          7         8         9  ...      3063      3064      3065      3066  \\\n",
       "0  0.047059  0.039216  0.070588  ...  0.054902  0.054902  0.054902  0.039216   \n",
       "1  0.854902  0.839216  0.854902  ...  0.854902  0.858824  0.862745  0.843137   \n",
       "2  0.317647  0.129412  0.450980  ...  0.788235  0.686275  0.509804  0.698039   \n",
       "3  0.286275  0.141176  0.423529  ...  0.654902  0.501961  0.360784  0.717647   \n",
       "4  0.403922  0.294118  0.631373  ...  0.356863  0.305882  0.290196  0.298039   \n",
       "\n",
       "       3067      3068      3069      3070      3071  label  \n",
       "0  0.039216  0.039216  0.003922  0.003922  0.003922      3  \n",
       "1  0.847059  0.850980  0.952941  0.952941  0.952941      3  \n",
       "2  0.611765  0.454902  0.729412  0.611765  0.411765      3  \n",
       "3  0.611765  0.470588  0.823529  0.752941  0.627451      3  \n",
       "4  0.239216  0.215686  0.223529  0.180392  0.168627      3  \n",
       "\n",
       "[5 rows x 3073 columns]"
      ]
     },
     "execution_count": 3,
     "metadata": {},
     "output_type": "execute_result"
    }
   ],
   "source": [
    "train.head(5)\n",
    "#3072개의 픽셀과 label"
   ]
  },
  {
   "cell_type": "code",
   "execution_count": 4,
   "metadata": {},
   "outputs": [
    {
     "data": {
      "text/plain": [
       "((600, 3072), (600,))"
      ]
     },
     "execution_count": 4,
     "metadata": {},
     "output_type": "execute_result"
    }
   ],
   "source": [
    "# X와 y로 나누기\n",
    "# X는 한 픽셀을 Feature로 잡은 것 입니다.\n",
    "# y는 label입니다. \n",
    "#label3 -> 만두\n",
    "#label4 -> 새우튀김\n",
    "#label5 -> 순대\n",
    "X = train.drop(columns = ['label'])\n",
    "y =train['label']\n",
    "X_test= test.copy()\n",
    "X.shape, y.shape"
   ]
  },
  {
   "cell_type": "markdown",
   "metadata": {},
   "source": [
    "# 2. Data Visualization\n",
    "- 0번째, 200번째, 400번째 데이터를 확인합니다.\n",
    "- 전체 픽셀의 개수는 3072입니다. 이를 (32, 32, 3)으로 변환하면 3D Tensor 즉, image가 됩니다."
   ]
  },
  {
   "cell_type": "code",
   "execution_count": 5,
   "metadata": {},
   "outputs": [
    {
     "name": "stdout",
     "output_type": "stream",
     "text": [
      "3\n"
     ]
    },
    {
     "data": {
      "text/plain": [
       "<matplotlib.image.AxesImage at 0x178bb798198>"
      ]
     },
     "execution_count": 5,
     "metadata": {},
     "output_type": "execute_result"
    },
    {
     "data": {
      "image/png": "[encoded data removed]",
      "text/plain": [
       "<Figure size 432x288 with 1 Axes>"
      ]
     },
     "metadata": {},
     "output_type": "display_data"
    }
   ],
   "source": [
    "# 0번째 label 및 이미지 확인\n",
    "#label3 -> 만두\n",
    "print(y[0])\n",
    "plt.imshow(X.iloc[0].values.reshape(32,32,3)) # (32,32,3)으로 변환"
   ]
  },
  {
   "cell_type": "code",
   "execution_count": 6,
   "metadata": {},
   "outputs": [
    {
     "name": "stdout",
     "output_type": "stream",
     "text": [
      "4\n"
     ]
    },
    {
     "data": {
      "text/plain": [
       "<matplotlib.image.AxesImage at 0x178bb8295c0>"
      ]
     },
     "execution_count": 6,
     "metadata": {},
     "output_type": "execute_result"
    },
    {
     "data": {
      "image/png": "[encoded data removed]",
      "text/plain": [
       "<Figure size 432x288 with 1 Axes>"
      ]
     },
     "metadata": {},
     "output_type": "display_data"
    }
   ],
   "source": [
    "# 200번째 label 및 이미지 확인\n",
    "#label4 -> 새우튀김\n",
    "print(y[200])\n",
    "plt.imshow(X.iloc[200].values.reshape(32,32,3))"
   ]
  },
  {
   "cell_type": "code",
   "execution_count": 7,
   "metadata": {},
   "outputs": [
    {
     "name": "stdout",
     "output_type": "stream",
     "text": [
      "5\n"
     ]
    },
    {
     "data": {
      "text/plain": [
       "<matplotlib.image.AxesImage at 0x178bb88d748>"
      ]
     },
     "execution_count": 7,
     "metadata": {},
     "output_type": "execute_result"
    },
    {
     "data": {
      "image/png": "[encoded data removed]",
      "text/plain": [
       "<Figure size 432x288 with 1 Axes>"
      ]
     },
     "metadata": {},
     "output_type": "display_data"
    }
   ],
   "source": [
    "# 400번째 label 및 이미지 확인\n",
    "#label5 -> 순대\n",
    "print(y[400])\n",
    "plt.imshow(X.iloc[400].values.reshape(32,32,3))"
   ]
  },
  {
   "cell_type": "markdown",
   "metadata": {},
   "source": [
    "# 3. Validation set 구성\n",
    "- 제공된 전체 학습데이터 600장 중 480장만 학습에 이용\n",
    "- 나머지 120장은 Validation으로 구성하여 성능 검증에 이용"
   ]
  },
  {
   "cell_type": "code",
   "execution_count": 8,
   "metadata": {},
   "outputs": [
    {
     "data": {
      "text/plain": [
       "((480, 3072), (120, 3072), (480,), (120,))"
      ]
     },
     "execution_count": 8,
     "metadata": {},
     "output_type": "execute_result"
    }
   ],
   "source": [
    "from sklearn.model_selection import train_test_split\n",
    "X_train, X_vld, y_train, y_vld = train_test_split(X, y, random_state=42, test_size = .2)\n",
    "X_train.shape, X_vld.shape, y_train.shape, y_vld.shape"
   ]
  },
  {
   "cell_type": "markdown",
   "metadata": {},
   "source": [
    "# 4. Modeling\n",
    "- Logistic Regression\n",
    "- KNN\n",
    "- 각각의 Hyperparaparameter를 튜닝시켜 가장 좋은 성능 모델로 Test를 진행하여 채점을 진행해보겠습니다."
   ]
  },
  {
   "cell_type": "code",
   "execution_count": 9,
   "metadata": {},
   "outputs": [],
   "source": [
    "from sklearn.linear_model import LogisticRegression\n",
    "from sklearn.neighbors import KNeighborsClassifier"
   ]
  },
  {
   "cell_type": "markdown",
   "metadata": {},
   "source": [
    "# 4.1 Hyper-parameter Searching\n",
    "- Grid Search 방법을 진행합니다. (설정한 모든 경우의 조합으로 성능을 평가함.)\n",
    "- 이를 5-Fold Cross Validation을 통해 가장 좋았던 파라미터를 찾습니다."
   ]
  },
  {
   "cell_type": "code",
   "execution_count": 10,
   "metadata": {},
   "outputs": [
    {
     "data": {
      "text/plain": [
       "'0.22.1'"
      ]
     },
     "execution_count": 10,
     "metadata": {},
     "output_type": "execute_result"
    }
   ],
   "source": [
    "import sklearn\n",
    "sklearn.__version__\n",
    "## '0.22.1'"
   ]
  },
  {
   "cell_type": "code",
   "execution_count": 11,
   "metadata": {},
   "outputs": [],
   "source": [
    "from sklearn.model_selection import GridSearchCV\n",
    "from sklearn.metrics import accuracy_score, classification_report, confusion_matrix"
   ]
  },
  {
   "cell_type": "code",
   "execution_count": 12,
   "metadata": {},
   "outputs": [
    {
     "data": {
      "text/plain": [
       "False"
      ]
     },
     "execution_count": 12,
     "metadata": {},
     "output_type": "execute_result"
    }
   ],
   "source": [
    "from sklearn._config import get_config, set_config\n",
    "\n",
    "# default setting\n",
    "get_config()[\"print_changed_only\"]"
   ]
  },
  {
   "cell_type": "code",
   "execution_count": 13,
   "metadata": {},
   "outputs": [],
   "source": [
    "# now changing it \n",
    "set_config(print_changed_only=False)"
   ]
  },
  {
   "cell_type": "code",
   "execution_count": 14,
   "metadata": {},
   "outputs": [],
   "source": [
    "algorithmes = [LogisticRegression(), KNeighborsClassifier(n_jobs=-1)]\n",
    "\n",
    "##실험 파라미터 셋팅###\n",
    "params = []\n",
    "params.append([{\n",
    "    \"solver\" : [\"saga\"],\n",
    "    \"penalty\" : [\"l1\"],\n",
    "    \"C\" : [0.1,  5.0, 7.0, 10.0, 15.0, 20.0, 100.0]\n",
    "    },{\n",
    "    \"solver\" : ['liblinear'],\n",
    "    \"penalty\" : [\"l2\"],\n",
    "    \"C\" : [0.1,  5.0, 7.0, 10.0, 15.0, 20.0, 100.0]\n",
    "    }\n",
    "    ]) #Logistic Regression 하이퍼 파라미터\n",
    "\n",
    "params.append({\n",
    "    \"p\":[int(i) for i in range(1,3)],\n",
    "    \"n_neighbors\":[i for i in range(2, 6)]}) #KNN 하이퍼 파라미터"
   ]
  },
  {
   "cell_type": "code",
   "execution_count": 15,
   "metadata": {},
   "outputs": [
    {
     "name": "stdout",
     "output_type": "stream",
     "text": [
      "GridSearchCV(cv=5, error_score=nan,\n",
      "             estimator=LogisticRegression(C=1.0, class_weight=None, dual=False,\n",
      "                                          fit_intercept=True,\n",
      "                                          intercept_scaling=1, l1_ratio=None,\n",
      "                                          max_iter=100, multi_class='auto',\n",
      "                                          n_jobs=None, penalty='l2',\n",
      "                                          random_state=None, solver='lbfgs',\n",
      "                                          tol=0.0001, verbose=0,\n",
      "                                          warm_start=False),\n",
      "             iid='deprecated', n_jobs=4,\n",
      "             param_grid=[{'C': [0.1, 5.0, 7.0, 10.0, 15.0, 20.0, 100.0],\n",
      "                          'penalty': ['l1'], 'solver': ['saga']},\n",
      "                         {'C': [0.1, 5.0, 7.0, 10.0, 15.0, 20.0, 100.0],\n",
      "                          'penalty': ['l2'], 'solver': ['liblinear']}],\n",
      "             pre_dispatch='2*n_jobs', refit='accuracy',\n",
      "             return_train_score=False, scoring=['accuracy'], verbose=1)\n",
      "Fitting 5 folds for each of 14 candidates, totalling 70 fits\n"
     ]
    },
    {
     "name": "stderr",
     "output_type": "stream",
     "text": [
      "[Parallel(n_jobs=4)]: Using backend LokyBackend with 4 concurrent workers.\n",
      "[Parallel(n_jobs=4)]: Done  42 tasks      | elapsed:  2.4min\n",
      "[Parallel(n_jobs=4)]: Done  70 out of  70 | elapsed:  2.8min finished\n",
      "C:\\Users\\SeongMin\\Anaconda3\\lib\\site-packages\\sklearn\\linear_model\\_sag.py:330: ConvergenceWarning: The max_iter was reached which means the coef_ did not converge\n",
      "  \"the coef_ did not converge\", ConvergenceWarning)\n",
      "[Parallel(n_jobs=4)]: Using backend LokyBackend with 4 concurrent workers.\n"
     ]
    },
    {
     "name": "stdout",
     "output_type": "stream",
     "text": [
      "GridSearchCV(cv=5, error_score=nan,\n",
      "             estimator=KNeighborsClassifier(algorithm='auto', leaf_size=30,\n",
      "                                            metric='minkowski',\n",
      "                                            metric_params=None, n_jobs=-1,\n",
      "                                            n_neighbors=5, p=2,\n",
      "                                            weights='uniform'),\n",
      "             iid='deprecated', n_jobs=4,\n",
      "             param_grid={'n_neighbors': [2, 3, 4, 5], 'p': [1, 2]},\n",
      "             pre_dispatch='2*n_jobs', refit='accuracy',\n",
      "             return_train_score=False, scoring=['accuracy'], verbose=1)\n",
      "Fitting 5 folds for each of 8 candidates, totalling 40 fits\n"
     ]
    },
    {
     "name": "stderr",
     "output_type": "stream",
     "text": [
      "[Parallel(n_jobs=4)]: Done  40 out of  40 | elapsed:    8.5s finished\n"
     ]
    }
   ],
   "source": [
    "#### 5 - Fold Cross Validation & Accuracy\n",
    "scoring = ['accuracy']\n",
    "estimator_results = []\n",
    "for i, (estimator, params) in enumerate(zip(algorithmes,params)):\n",
    "    gs_estimator = GridSearchCV(\n",
    "            refit=\"accuracy\", estimator=estimator,param_grid=params, scoring=scoring, cv=5, verbose=1, n_jobs=4)\n",
    "    print(gs_estimator)\n",
    "\n",
    "    gs_estimator.fit(X, y)\n",
    "    estimator_results.append(gs_estimator)"
   ]
  },
  {
   "cell_type": "code",
   "execution_count": 16,
   "metadata": {},
   "outputs": [
    {
     "name": "stdout",
     "output_type": "stream",
     "text": [
      "Logistic의 가장 좋은 성능은  0.7433333333333334\n",
      "KNN의 가장 좋은 성능은  0.5983333333333334\n"
     ]
    }
   ],
   "source": [
    "print(\"Logistic의 가장 좋은 성능은 \",estimator_results[0].best_score_)\n",
    "print(\"KNN의 가장 좋은 성능은 \",estimator_results[1].best_score_)"
   ]
  },
  {
   "cell_type": "markdown",
   "metadata": {},
   "source": [
    "# 4.2 가장 좋은 모델의 가장 좋은 하이퍼 파라미터로 학습시키기\n",
    "- 가장 좋은 모델로 전체 학습데이터 600장 중 480장만 학습에 이용\n",
    "- 나머지 120장은 Validation으로 구성하여 성능 검증에 이용"
   ]
  },
  {
   "cell_type": "code",
   "execution_count": 17,
   "metadata": {},
   "outputs": [
    {
     "name": "stderr",
     "output_type": "stream",
     "text": [
      "C:\\Users\\SeongMin\\Anaconda3\\lib\\site-packages\\sklearn\\linear_model\\_sag.py:330: ConvergenceWarning: The max_iter was reached which means the coef_ did not converge\n",
      "  \"the coef_ did not converge\", ConvergenceWarning)\n"
     ]
    },
    {
     "data": {
      "text/plain": [
       "LogisticRegression(C=0.1, class_weight=None, dual=False, fit_intercept=True,\n",
       "                   intercept_scaling=1, l1_ratio=None, max_iter=100,\n",
       "                   multi_class='auto', n_jobs=None, penalty='l1',\n",
       "                   random_state=None, solver='saga', tol=0.0001, verbose=0,\n",
       "                   warm_start=False)"
      ]
     },
     "execution_count": 17,
     "metadata": {},
     "output_type": "execute_result"
    }
   ],
   "source": [
    "#가장 좋은 모델 설정\n",
    "model = estimator_results[0].best_estimator_\n",
    "model.fit(X_train, y_train)"
   ]
  },
  {
   "cell_type": "markdown",
   "metadata": {},
   "source": [
    "# 5. Validation 성능평가\n",
    "- Validation set의 성능을 평가합니다.\n",
    "- Recall, Precision 확인\n",
    "- Confusion Matrix 확인"
   ]
  },
  {
   "cell_type": "code",
   "execution_count": 18,
   "metadata": {},
   "outputs": [],
   "source": [
    "# validation 예측\n",
    "pred = model.predict(X_vld)"
   ]
  },
  {
   "cell_type": "code",
   "execution_count": 19,
   "metadata": {},
   "outputs": [
    {
     "name": "stdout",
     "output_type": "stream",
     "text": [
      "              precision    recall  f1-score   support\n",
      "\n",
      "           3       0.74      0.53      0.62        43\n",
      "           4       0.73      0.97      0.83        36\n",
      "           5       0.71      0.71      0.71        41\n",
      "\n",
      "    accuracy                           0.73       120\n",
      "   macro avg       0.73      0.74      0.72       120\n",
      "weighted avg       0.73      0.72      0.71       120\n",
      "\n",
      "[[23  8 12]\n",
      " [ 1 35  0]\n",
      " [ 7  5 29]]\n"
     ]
    }
   ],
   "source": [
    "# validation set 성능 확인\n",
    "from sklearn.metrics import classification_report, confusion_matrix\n",
    "print(classification_report(y_vld, pred))\n",
    "print(confusion_matrix(y_vld, pred))"
   ]
  },
  {
   "cell_type": "code",
   "execution_count": 20,
   "metadata": {},
   "outputs": [
    {
     "name": "stdout",
     "output_type": "stream",
     "text": [
      "True [3 5 5 3 3 4 3 5 3 4 3 3 3 5 4 4 3 4 3 3 3 5 5 5 4 5 3 3 5 5 5 3 3 4 3 5 3\n",
      " 5 5 4 4 3 5 5 3 3 5 3 3 5 4 4 3 5 5 4 4 3 3 3 3 3 4 5 5 3 5 5 3 4 4 3 5 4\n",
      " 5 5 4 4 5 5 4 5 5 4 3 3 3 4 4 4 4 5 3 4 4 4 4 3 5 3 3 4 5 4 3 5 3 4 4 5 3\n",
      " 5 5 5 4 4 4 3 5 5]\n",
      "Prediction [5 5 4 3 4 4 3 5 4 4 3 3 3 5 4 4 3 4 5 3 4 5 3 5 4 5 3 4 5 5 5 5 5 4 5 5 3\n",
      " 5 4 4 4 3 5 5 5 3 5 5 3 3 4 4 3 5 3 4 4 3 5 3 5 3 3 3 5 4 5 5 5 4 4 3 4 4\n",
      " 3 3 4 4 5 4 4 5 5 4 3 3 4 4 4 4 4 5 3 4 4 4 4 3 5 3 3 4 5 4 4 5 5 4 4 5 5\n",
      " 5 5 5 4 4 4 4 4 3]\n"
     ]
    }
   ],
   "source": [
    "# 결과 확인\n",
    "print(\"True\", y_vld.values)\n",
    "print(\"Prediction\", pred)"
   ]
  },
  {
   "cell_type": "code",
   "execution_count": 21,
   "metadata": {},
   "outputs": [
    {
     "data": {
      "text/plain": [
       "<matplotlib.image.AxesImage at 0x178c0bf12b0>"
      ]
     },
     "execution_count": 21,
     "metadata": {},
     "output_type": "execute_result"
    },
    {
     "data": {
      "image/png": "[encoded data removed]",
      "text/plain": [
       "<Figure size 432x288 with 1 Axes>"
      ]
     },
     "metadata": {},
     "output_type": "display_data"
    }
   ],
   "source": [
    "# 첫번째 데이터 True : 3(만두)\n",
    "# 첫번째 데이터 Label : 5(순대)\n",
    "# 즉 모델이 만두을 순대로 잘못예측한 개체이다.\n",
    "plt.imshow(X_vld.iloc[0].values.reshape(32,32,3))"
   ]
  },
  {
   "cell_type": "markdown",
   "metadata": {},
   "source": [
    "# 6. Testset 제출 및 Submission file 만들기\n",
    "- 학습되지 않은 Validation 120장을 추가하여 600장을 한꺼번에 학습시킵니다.\n",
    "- 이를 통해 Test data을 예측합니다.\n",
    "- 제출 파일은 numpy array을 저장하여 .npy로 제출해주시기 바랍니다."
   ]
  },
  {
   "cell_type": "code",
   "execution_count": 22,
   "metadata": {},
   "outputs": [
    {
     "name": "stderr",
     "output_type": "stream",
     "text": [
      "C:\\Users\\SeongMin\\Anaconda3\\lib\\site-packages\\sklearn\\linear_model\\_sag.py:330: ConvergenceWarning: The max_iter was reached which means the coef_ did not converge\n",
      "  \"the coef_ did not converge\", ConvergenceWarning)\n"
     ]
    },
    {
     "data": {
      "text/plain": [
       "LogisticRegression(C=0.1, class_weight=None, dual=False, fit_intercept=True,\n",
       "                   intercept_scaling=1, l1_ratio=None, max_iter=100,\n",
       "                   multi_class='auto', n_jobs=None, penalty='l1',\n",
       "                   random_state=None, solver='saga', tol=0.0001, verbose=0,\n",
       "                   warm_start=False)"
      ]
     },
     "execution_count": 22,
     "metadata": {},
     "output_type": "execute_result"
    }
   ],
   "source": [
    "# 전체데이터로 학습하기\n",
    "model.fit(X, y)"
   ]
  },
  {
   "cell_type": "code",
   "execution_count": 23,
   "metadata": {},
   "outputs": [],
   "source": [
    "# 테스트 데이터 복사\n",
    "X_test = test.copy()"
   ]
  },
  {
   "cell_type": "code",
   "execution_count": 24,
   "metadata": {},
   "outputs": [],
   "source": [
    "final_pred = model.predict(X_test)"
   ]
  },
  {
   "cell_type": "code",
   "execution_count": 25,
   "metadata": {},
   "outputs": [],
   "source": [
    "# final_pred를 npy로 저장합니다.\n",
    "np.save(\"./submissin_file.npy\", final_pred)"
   ]
  },
  {
   "cell_type": "markdown",
   "metadata": {},
   "source": [
    "# B. Deep Learning"
   ]
  },
  {
   "cell_type": "raw",
   "metadata": {},
   "source": [
    "# X_train url : https://drive.google.com/file/d/1HprU6hvAspAUL5AVgGaWYcagsYFU6o_4/view?usp=sharing\n",
    "# y_train url : https://drive.google.com/file/d/10ais_R7g9aBIoPj0h18R9nm80KV7eY79/view?usp=sharing\n",
    "# X_test url : https://drive.google.com/file/d/1P6pWaTl_mVXIWGEtBOCq8VqC5lXldsJ6/view?usp=sharing\n",
    "\n",
    "download = drive.CreateFile({\"id\": \"1HprU6hvAspAUL5AVgGaWYcagsYFU6o_4\"}) #이부분 수정하면 됩니다\n",
    "download.GetContentFile(\"X_train.npy\")\n",
    "\n",
    "download = drive.CreateFile({\"id\": \"10ais_R7g9aBIoPj0h18R9nm80KV7eY79\"}) #이부분 수정하면 됩니다\n",
    "download.GetContentFile(\"y_train.npy\")\n",
    "\n",
    "download = drive.CreateFile({\"id\": \"1P6pWaTl_mVXIWGEtBOCq8VqC5lXldsJ6\"}) #이부분 수정하면 됩니다\n",
    "download.GetContentFile(\"X_test.npy\")"
   ]
  },
  {
   "cell_type": "markdown",
   "metadata": {},
   "source": [
    "# 1. Data Loading\n",
    "- Train data를 로딩합니다.\n",
    "- shape을 확인합니다."
   ]
  },
  {
   "cell_type": "code",
   "execution_count": 26,
   "metadata": {},
   "outputs": [],
   "source": [
    "X_train = np.load(\"./A34_train_X.npy\") #Train X data loading\n",
    "y_train = np.load(\"./A34_train_y.npy\") #Test X data loading\n",
    "#label3 -> 만두\n",
    "#label4 -> 새우튀김\n",
    "#label5 -> 순대"
   ]
  },
  {
   "cell_type": "code",
   "execution_count": 27,
   "metadata": {},
   "outputs": [
    {
     "data": {
      "text/plain": [
       "array([3, 3, 3, 3, 3, 3, 3, 3, 3, 3, 3, 3, 3, 3, 3, 3, 3, 3, 3, 3, 3, 3,\n",
       "       3, 3, 3, 3, 3, 3, 3, 3, 3, 3, 3, 3, 3, 3, 3, 3, 3, 3, 3, 3, 3, 3,\n",
       "       3, 3, 3, 3, 3, 3, 3, 3, 3, 3, 3, 3, 3, 3, 3, 3, 3, 3, 3, 3, 3, 3,\n",
       "       3, 3, 3, 3, 3, 3, 3, 3, 3, 3, 3, 3, 3, 3, 3, 3, 3, 3, 3, 3, 3, 3,\n",
       "       3, 3, 3, 3, 3, 3, 3, 3, 3, 3, 3, 3, 3, 3, 3, 3, 3, 3, 3, 3, 3, 3,\n",
       "       3, 3, 3, 3, 3, 3, 3, 3, 3, 3, 3, 3, 3, 3, 3, 3, 3, 3, 3, 3, 3, 3,\n",
       "       3, 3, 3, 3, 3, 3, 3, 3, 3, 3, 3, 3, 3, 3, 3, 3, 3, 3, 3, 3, 3, 3,\n",
       "       3, 3, 3, 3, 3, 3, 3, 3, 3, 3, 3, 3, 3, 3, 3, 3, 3, 3, 3, 3, 3, 3,\n",
       "       3, 3, 3, 3, 3, 3, 3, 3, 3, 3, 3, 3, 3, 3, 3, 3, 3, 3, 3, 3, 3, 3,\n",
       "       3, 3, 4, 4, 4, 4, 4, 4, 4, 4, 4, 4, 4, 4, 4, 4, 4, 4, 4, 4, 4, 4,\n",
       "       4, 4, 4, 4, 4, 4, 4, 4, 4, 4, 4, 4, 4, 4, 4, 4, 4, 4, 4, 4, 4, 4,\n",
       "       4, 4, 4, 4, 4, 4, 4, 4, 4, 4, 4, 4, 4, 4, 4, 4, 4, 4, 4, 4, 4, 4,\n",
       "       4, 4, 4, 4, 4, 4, 4, 4, 4, 4, 4, 4, 4, 4, 4, 4, 4, 4, 4, 4, 4, 4,\n",
       "       4, 4, 4, 4, 4, 4, 4, 4, 4, 4, 4, 4, 4, 4, 4, 4, 4, 4, 4, 4, 4, 4,\n",
       "       4, 4, 4, 4, 4, 4, 4, 4, 4, 4, 4, 4, 4, 4, 4, 4, 4, 4, 4, 4, 4, 4,\n",
       "       4, 4, 4, 4, 4, 4, 4, 4, 4, 4, 4, 4, 4, 4, 4, 4, 4, 4, 4, 4, 4, 4,\n",
       "       4, 4, 4, 4, 4, 4, 4, 4, 4, 4, 4, 4, 4, 4, 4, 4, 4, 4, 4, 4, 4, 4,\n",
       "       4, 4, 4, 4, 4, 4, 4, 4, 4, 4, 4, 4, 4, 4, 4, 4, 4, 4, 4, 4, 4, 4,\n",
       "       4, 4, 4, 4, 5, 5, 5, 5, 5, 5, 5, 5, 5, 5, 5, 5, 5, 5, 5, 5, 5, 5,\n",
       "       5, 5, 5, 5, 5, 5, 5, 5, 5, 5, 5, 5, 5, 5, 5, 5, 5, 5, 5, 5, 5, 5,\n",
       "       5, 5, 5, 5, 5, 5, 5, 5, 5, 5, 5, 5, 5, 5, 5, 5, 5, 5, 5, 5, 5, 5,\n",
       "       5, 5, 5, 5, 5, 5, 5, 5, 5, 5, 5, 5, 5, 5, 5, 5, 5, 5, 5, 5, 5, 5,\n",
       "       5, 5, 5, 5, 5, 5, 5, 5, 5, 5, 5, 5, 5, 5, 5, 5, 5, 5, 5, 5, 5, 5,\n",
       "       5, 5, 5, 5, 5, 5, 5, 5, 5, 5, 5, 5, 5, 5, 5, 5, 5, 5, 5, 5, 5, 5,\n",
       "       5, 5, 5, 5, 5, 5, 5, 5, 5, 5, 5, 5, 5, 5, 5, 5, 5, 5, 5, 5, 5, 5,\n",
       "       5, 5, 5, 5, 5, 5, 5, 5, 5, 5, 5, 5, 5, 5, 5, 5, 5, 5, 5, 5, 5, 5,\n",
       "       5, 5, 5, 5, 5, 5, 5, 5, 5, 5, 5, 5, 5, 5, 5, 5, 5, 5, 5, 5, 5, 5,\n",
       "       5, 5, 5, 5, 5, 5])"
      ]
     },
     "execution_count": 27,
     "metadata": {},
     "output_type": "execute_result"
    }
   ],
   "source": [
    "y_train"
   ]
  },
  {
   "cell_type": "code",
   "execution_count": 28,
   "metadata": {},
   "outputs": [
    {
     "data": {
      "text/plain": [
       "((600, 32, 32, 3), (600,))"
      ]
     },
     "execution_count": 28,
     "metadata": {},
     "output_type": "execute_result"
    }
   ],
   "source": [
    "# 각 class마다 200개씩 제공 -> 총 600장\n",
    "# 이미지의 shpae은 RGB 채널을 갖고있는 32x32이미지 입니다. -> (32, 32, 3)\n",
    "X_train.shape, y_train.shape"
   ]
  },
  {
   "cell_type": "markdown",
   "metadata": {},
   "source": [
    "# 2. Data Visualization\n",
    "- 0번째, 200번째, 400번째 데이터를 확인합니다."
   ]
  },
  {
   "cell_type": "code",
   "execution_count": 29,
   "metadata": {},
   "outputs": [
    {
     "name": "stdout",
     "output_type": "stream",
     "text": [
      "3\n"
     ]
    },
    {
     "data": {
      "text/plain": [
       "<matplotlib.image.AxesImage at 0x178bb076da0>"
      ]
     },
     "execution_count": 29,
     "metadata": {},
     "output_type": "execute_result"
    },
    {
     "data": {
      "image/png": "[encoded data removed]",
      "text/plain": [
       "<Figure size 432x288 with 1 Axes>"
      ]
     },
     "metadata": {},
     "output_type": "display_data"
    }
   ],
   "source": [
    "# 0번째 label 및 이미지 확인\n",
    "# label3 -> 만두\n",
    "print(y_train[0])\n",
    "plt.imshow(X_train[0,:,:,:])"
   ]
  },
  {
   "cell_type": "code",
   "execution_count": 30,
   "metadata": {},
   "outputs": [
    {
     "name": "stdout",
     "output_type": "stream",
     "text": [
      "4\n"
     ]
    },
    {
     "data": {
      "text/plain": [
       "<matplotlib.image.AxesImage at 0x178bb0d47b8>"
      ]
     },
     "execution_count": 30,
     "metadata": {},
     "output_type": "execute_result"
    },
    {
     "data": {
      "image/png": "[encoded data removed]",
      "text/plain": [
       "<Figure size 432x288 with 1 Axes>"
      ]
     },
     "metadata": {},
     "output_type": "display_data"
    }
   ],
   "source": [
    "# 200번째 label 및 이미지 확인\n",
    "#label4 -> 새우튀김\n",
    "print(y_train[200])\n",
    "plt.imshow(X_train[200,:,:,:])"
   ]
  },
  {
   "cell_type": "code",
   "execution_count": 31,
   "metadata": {},
   "outputs": [
    {
     "name": "stdout",
     "output_type": "stream",
     "text": [
      "5\n"
     ]
    },
    {
     "data": {
      "text/plain": [
       "<matplotlib.image.AxesImage at 0x178bb1362e8>"
      ]
     },
     "execution_count": 31,
     "metadata": {},
     "output_type": "execute_result"
    },
    {
     "data": {
      "image/png": "[encoded data removed]",
      "text/plain": [
       "<Figure size 432x288 with 1 Axes>"
      ]
     },
     "metadata": {},
     "output_type": "display_data"
    }
   ],
   "source": [
    "# 400번째 label 및 이미지 확인\n",
    "#label5 -> 순대\n",
    "print(y_train[400])\n",
    "plt.imshow(X_train[400,:,:,:])"
   ]
  },
  {
   "cell_type": "markdown",
   "metadata": {},
   "source": [
    "# 3. Validation set 구성\n",
    "- 제공된 전체 학습데이터 600장 중 480장만 학습에 이용\n",
    "- 나머지 120장은 Validation으로 구성하여 성능 검증에 이용"
   ]
  },
  {
   "cell_type": "code",
   "execution_count": 32,
   "metadata": {},
   "outputs": [
    {
     "data": {
      "text/plain": [
       "((480, 32, 32, 3), (120, 32, 32, 3), (480,), (120,))"
      ]
     },
     "execution_count": 32,
     "metadata": {},
     "output_type": "execute_result"
    }
   ],
   "source": [
    "from sklearn.model_selection import train_test_split\n",
    "X_train, X_vld, y_train, y_vld = train_test_split(X_train, y_train, random_state=42, test_size = .2)\n",
    "X_train.shape, X_vld.shape, y_train.shape, y_vld.shape"
   ]
  },
  {
   "cell_type": "markdown",
   "metadata": {},
   "source": [
    "# 4. Modeling\n",
    "- Label 전처리 -> one-hot encoding\n",
    "- Basic CNN 구성\n",
    "- input layer -> Conv1 -> Maxpool1 -> Conv2 -> Maxpool2 -> Conv3 -> flatten -> Dense1 -> ouput layer\n",
    "- activate function : Relu"
   ]
  },
  {
   "cell_type": "code",
   "execution_count": 33,
   "metadata": {},
   "outputs": [],
   "source": [
    "from keras.models import Sequential\n",
    "from keras.layers import Dense, Conv2D, MaxPooling2D, Dropout, Flatten\n",
    "from keras.callbacks import ModelCheckpoint, EarlyStopping\n",
    "from keras.utils import np_utils"
   ]
  },
  {
   "cell_type": "code",
   "execution_count": 34,
   "metadata": {},
   "outputs": [],
   "source": [
    "# 해당 부분은 label의 순서를 0부터 시작하게 하기 위해서 1을 빼줍니다.\n",
    "# 본 데이터의 label은 3 4 5 으로 구성돼 있으므로 3을 빼면 -> 0 1 2로 바뀌게 됩니다.\n",
    "y_train = y_train-3\n",
    "y_vld = y_vld-3"
   ]
  },
  {
   "cell_type": "code",
   "execution_count": 35,
   "metadata": {},
   "outputs": [
    {
     "data": {
      "text/plain": [
       "array([0, 0, 1, 2, 0, 0, 2, 1, 2, 2, 0, 2, 0, 0, 2, 0, 0, 0, 1, 0, 0, 1,\n",
       "       0, 0, 2, 0, 1, 2, 0, 0, 2, 2, 1, 1, 2, 1, 0, 2, 0, 0, 1, 1, 0, 2,\n",
       "       1, 0, 1, 1, 2, 1, 1, 1, 2, 2, 0, 0, 2, 0, 0, 1, 0, 1, 2, 2, 2, 1,\n",
       "       1, 2, 1, 1, 2, 2, 0, 1, 2, 1, 2, 1, 2, 0, 0, 2, 2, 0, 1, 1, 1, 1,\n",
       "       1, 2, 2, 2, 2, 0, 1, 0, 1, 0, 2, 0, 0, 2, 0, 1, 1, 2, 1, 1, 0, 1,\n",
       "       0, 2, 1, 2, 2, 0, 2, 1, 2, 1, 2, 1, 2, 0, 0, 1, 2, 2, 0, 0, 0, 0,\n",
       "       0, 2, 0, 0, 1, 1, 0, 1, 1, 1, 2, 0, 1, 2, 1, 0, 0, 1, 1, 1, 0, 0,\n",
       "       1, 2, 2, 0, 0, 2, 2, 0, 2, 2, 1, 2, 1, 1, 0, 2, 1, 0, 1, 0, 0, 1,\n",
       "       2, 0, 2, 1, 0, 2, 2, 2, 0, 1, 0, 1, 0, 0, 0, 2, 1, 2, 1, 0, 1, 0,\n",
       "       2, 2, 0, 1, 2, 2, 1, 1, 1, 1, 2, 0, 1, 0, 0, 1, 1, 2, 0, 0, 1, 1,\n",
       "       1, 2, 1, 0, 1, 2, 2, 0, 2, 1, 0, 1, 0, 2, 2, 0, 2, 1, 1, 2, 0, 2,\n",
       "       0, 0, 1, 2, 0, 1, 1, 1, 2, 0, 0, 1, 1, 1, 2, 2, 2, 2, 2, 1, 0, 2,\n",
       "       1, 1, 0, 1, 0, 2, 1, 2, 2, 1, 2, 2, 1, 2, 1, 2, 2, 2, 0, 0, 2, 2,\n",
       "       2, 1, 1, 0, 2, 1, 1, 2, 0, 1, 0, 2, 0, 2, 1, 1, 0, 0, 2, 1, 1, 1,\n",
       "       2, 2, 1, 0, 2, 1, 2, 0, 0, 2, 2, 0, 2, 0, 0, 0, 1, 0, 1, 0, 1, 0,\n",
       "       0, 0, 0, 0, 0, 1, 2, 2, 1, 2, 0, 0, 1, 2, 1, 2, 0, 2, 2, 0, 2, 2,\n",
       "       1, 1, 1, 1, 1, 1, 1, 0, 1, 2, 2, 2, 0, 1, 2, 2, 2, 1, 1, 0, 0, 1,\n",
       "       1, 0, 2, 0, 0, 2, 1, 1, 1, 0, 0, 2, 2, 1, 2, 1, 1, 1, 2, 1, 2, 0,\n",
       "       0, 2, 0, 2, 2, 0, 0, 0, 0, 2, 1, 0, 1, 0, 1, 1, 1, 2, 2, 2, 1, 1,\n",
       "       0, 2, 2, 0, 1, 0, 2, 0, 1, 0, 2, 2, 2, 1, 0, 1, 1, 1, 0, 1, 1, 1,\n",
       "       0, 2, 2, 2, 2, 1, 2, 0, 2, 2, 0, 2, 2, 1, 0, 1, 2, 0, 1, 0, 1, 2,\n",
       "       2, 1, 1, 0, 0, 1, 0, 2, 1, 1, 2, 0, 0, 0, 0, 1, 2, 0])"
      ]
     },
     "execution_count": 35,
     "metadata": {},
     "output_type": "execute_result"
    }
   ],
   "source": [
    "y_train"
   ]
  },
  {
   "cell_type": "code",
   "execution_count": 36,
   "metadata": {},
   "outputs": [],
   "source": [
    "# 바꿔진 0 1 2 class를 one hot encoding을 실시합니다.\n",
    "# ex) 0 -> [1, 0, 0] / 1-> [0, 1, 0] / 2 -> [0,0,1]\n",
    "y_train = np_utils.to_categorical(y_train, 3)\n",
    "y_vld= np_utils.to_categorical(y_vld, 3)"
   ]
  },
  {
   "cell_type": "code",
   "execution_count": 37,
   "metadata": {},
   "outputs": [
    {
     "data": {
      "text/plain": [
       "array([[1., 0., 0.],\n",
       "       [1., 0., 0.],\n",
       "       [0., 1., 0.],\n",
       "       ...,\n",
       "       [0., 1., 0.],\n",
       "       [0., 0., 1.],\n",
       "       [1., 0., 0.]], dtype=float32)"
      ]
     },
     "execution_count": 37,
     "metadata": {},
     "output_type": "execute_result"
    }
   ],
   "source": [
    "y_train"
   ]
  },
  {
   "cell_type": "code",
   "execution_count": 38,
   "metadata": {},
   "outputs": [
    {
     "name": "stdout",
     "output_type": "stream",
     "text": [
      "Model: \"sequential\"\n",
      "_________________________________________________________________\n",
      "Layer (type)                 Output Shape              Param #   \n",
      "=================================================================\n",
      "conv2d (Conv2D)              (None, 30, 30, 32)        896       \n",
      "_________________________________________________________________\n",
      "max_pooling2d (MaxPooling2D) (None, 15, 15, 32)        0         \n",
      "_________________________________________________________________\n",
      "conv2d_1 (Conv2D)            (None, 13, 13, 64)        18496     \n",
      "_________________________________________________________________\n",
      "max_pooling2d_1 (MaxPooling2 (None, 6, 6, 64)          0         \n",
      "_________________________________________________________________\n",
      "conv2d_2 (Conv2D)            (None, 4, 4, 64)          36928     \n",
      "_________________________________________________________________\n",
      "flatten (Flatten)            (None, 1024)              0         \n",
      "_________________________________________________________________\n",
      "dense (Dense)                (None, 128)               131200    \n",
      "_________________________________________________________________\n",
      "dropout (Dropout)            (None, 128)               0         \n",
      "_________________________________________________________________\n",
      "dense_1 (Dense)              (None, 3)                 387       \n",
      "=================================================================\n",
      "Total params: 187,907\n",
      "Trainable params: 187,907\n",
      "Non-trainable params: 0\n",
      "_________________________________________________________________\n"
     ]
    }
   ],
   "source": [
    "# CNN 아키텍처\n",
    "model = Sequential()\n",
    "model.add(Conv2D(32, (3, 3), activation='relu', input_shape=(32, 32, 3)))\n",
    "model.add(MaxPooling2D((2, 2)))\n",
    "model.add(Conv2D(64, (3, 3), activation='relu'))\n",
    "model.add(MaxPooling2D((2, 2)))\n",
    "model.add(Conv2D(64, (3, 3), activation='relu'))\n",
    "model.add(Flatten())\n",
    "model.add(Dense(128, activation='relu'))\n",
    "model.add(Dropout(0.5))\n",
    "model.add(Dense(3, activation='softmax'))\n",
    "model.compile(loss='categorical_crossentropy',\n",
    "              optimizer='adam',\n",
    "              metrics=['accuracy'])\n",
    "\n",
    "model.summary()          "
   ]
  },
  {
   "cell_type": "code",
   "execution_count": 39,
   "metadata": {},
   "outputs": [
    {
     "name": "stdout",
     "output_type": "stream",
     "text": [
      "Epoch 1/100\n",
      "8/8 [==============================] - 1s 81ms/step - loss: 1.0790 - accuracy: 0.4125 - val_loss: 1.0243 - val_accuracy: 0.5500\n",
      "Epoch 2/100\n",
      "8/8 [==============================] - 0s 52ms/step - loss: 0.9712 - accuracy: 0.5750 - val_loss: 0.8347 - val_accuracy: 0.6833\n",
      "Epoch 3/100\n",
      "8/8 [==============================] - 0s 61ms/step - loss: 0.7982 - accuracy: 0.6667 - val_loss: 0.6100 - val_accuracy: 0.7417\n",
      "Epoch 4/100\n",
      "8/8 [==============================] - 1s 75ms/step - loss: 0.7080 - accuracy: 0.7229 - val_loss: 0.7609 - val_accuracy: 0.6833\n",
      "Epoch 5/100\n",
      "8/8 [==============================] - 0s 60ms/step - loss: 0.6317 - accuracy: 0.7312 - val_loss: 0.4825 - val_accuracy: 0.8000\n",
      "Epoch 6/100\n",
      "8/8 [==============================] - 0s 51ms/step - loss: 0.5490 - accuracy: 0.7854 - val_loss: 0.4554 - val_accuracy: 0.8083\n",
      "Epoch 7/100\n",
      "8/8 [==============================] - 0s 62ms/step - loss: 0.6405 - accuracy: 0.7146 - val_loss: 0.5840 - val_accuracy: 0.7250\n",
      "Epoch 8/100\n",
      "8/8 [==============================] - 1s 74ms/step - loss: 0.5605 - accuracy: 0.7750 - val_loss: 0.4597 - val_accuracy: 0.8083\n",
      "Epoch 9/100\n",
      "8/8 [==============================] - 0s 52ms/step - loss: 0.5086 - accuracy: 0.7958 - val_loss: 0.4143 - val_accuracy: 0.8250\n",
      "Epoch 10/100\n",
      "8/8 [==============================] - 0s 54ms/step - loss: 0.4395 - accuracy: 0.8354 - val_loss: 0.6083 - val_accuracy: 0.7500\n",
      "Epoch 11/100\n",
      "8/8 [==============================] - 0s 60ms/step - loss: 0.4627 - accuracy: 0.8208 - val_loss: 0.4175 - val_accuracy: 0.8083\n",
      "Epoch 12/100\n",
      "8/8 [==============================] - 0s 58ms/step - loss: 0.4031 - accuracy: 0.8333 - val_loss: 0.4707 - val_accuracy: 0.7917\n",
      "Epoch 13/100\n",
      "8/8 [==============================] - 0s 53ms/step - loss: 0.4297 - accuracy: 0.8250 - val_loss: 0.4183 - val_accuracy: 0.8000\n",
      "Epoch 14/100\n",
      "8/8 [==============================] - 0s 55ms/step - loss: 0.3955 - accuracy: 0.8396 - val_loss: 0.5456 - val_accuracy: 0.7583\n",
      "Epoch 15/100\n",
      "8/8 [==============================] - 0s 58ms/step - loss: 0.4124 - accuracy: 0.8458 - val_loss: 0.3997 - val_accuracy: 0.8250\n",
      "Epoch 16/100\n",
      "8/8 [==============================] - 0s 59ms/step - loss: 0.3409 - accuracy: 0.8625 - val_loss: 0.4619 - val_accuracy: 0.8000\n",
      "Epoch 17/100\n",
      "8/8 [==============================] - 0s 53ms/step - loss: 0.3645 - accuracy: 0.8521 - val_loss: 0.4603 - val_accuracy: 0.7917\n",
      "Epoch 18/100\n",
      "8/8 [==============================] - 0s 52ms/step - loss: 0.3395 - accuracy: 0.8583 - val_loss: 0.6158 - val_accuracy: 0.7833\n",
      "Epoch 19/100\n",
      "8/8 [==============================] - 0s 56ms/step - loss: 0.4339 - accuracy: 0.8250 - val_loss: 0.4205 - val_accuracy: 0.8167\n",
      "Epoch 20/100\n",
      "8/8 [==============================] - 0s 60ms/step - loss: 0.3664 - accuracy: 0.8521 - val_loss: 0.4897 - val_accuracy: 0.8083\n",
      "Epoch 21/100\n",
      "8/8 [==============================] - 1s 81ms/step - loss: 0.3702 - accuracy: 0.8562 - val_loss: 0.5059 - val_accuracy: 0.7750\n",
      "Epoch 22/100\n",
      "8/8 [==============================] - 0s 58ms/step - loss: 0.3553 - accuracy: 0.8562 - val_loss: 0.4169 - val_accuracy: 0.8167\n",
      "Epoch 23/100\n",
      "8/8 [==============================] - 0s 53ms/step - loss: 0.3149 - accuracy: 0.8750 - val_loss: 0.5225 - val_accuracy: 0.7500\n",
      "Epoch 24/100\n",
      "8/8 [==============================] - 0s 50ms/step - loss: 0.2994 - accuracy: 0.8833 - val_loss: 0.4862 - val_accuracy: 0.7917\n",
      "Epoch 25/100\n",
      "8/8 [==============================] - 0s 56ms/step - loss: 0.2874 - accuracy: 0.9000 - val_loss: 0.4475 - val_accuracy: 0.8167\n",
      "4/4 [==============================] - 0s 10ms/step - loss: 0.4475 - accuracy: 0.8167\n",
      "\n",
      "Accuracy: 0.8167\n"
     ]
    }
   ],
   "source": [
    "# Early Stopping -> overfitting 방지\n",
    "cb_early_stopping = EarlyStopping(monitor='val_loss', patience=10)\n",
    "\n",
    "history = model.fit(X_train, y_train,\n",
    "                    validation_data=(X_vld, y_vld),\n",
    "                    epochs=100, batch_size=64, verbose=1,\n",
    "                    callbacks=[cb_early_stopping])\n",
    "\n",
    "print('\\nAccuracy: {:.4f}'.format(model.evaluate(X_vld, y_vld)[1]))"
   ]
  },
  {
   "cell_type": "markdown",
   "metadata": {},
   "source": [
    "# 5. Validation 성능평가\n",
    "- Validation set의 성능을 평가합니다.\n",
    "- Recall, Precision 확인\n",
    "- Confusion Matrix 확인"
   ]
  },
  {
   "cell_type": "code",
   "execution_count": 40,
   "metadata": {},
   "outputs": [],
   "source": [
    "# validation 예측\n",
    "# pred에 3을 더하는 이유는 3번, 4번, 5번으로 바꿔주기 위해서\n",
    "# pred = model.predict_classes(X_vld)  # TensorFlow 2.5.x\n",
    "pred = np.argmax(model.predict(X_vld), axis=-1)\n",
    "pred += 3"
   ]
  },
  {
   "cell_type": "code",
   "execution_count": 41,
   "metadata": {},
   "outputs": [],
   "source": [
    "# y_vld.argmax(axis = 1)을 통해 one hot encoding을 원래 class로 바꿔준다.\n",
    "# 여기에 3을 더해 3부터 시작하도록 바꿈.\n",
    "y_vld = y_vld.argmax(axis = 1) + 3"
   ]
  },
  {
   "cell_type": "code",
   "execution_count": 42,
   "metadata": {},
   "outputs": [
    {
     "name": "stdout",
     "output_type": "stream",
     "text": [
      "              precision    recall  f1-score   support\n",
      "\n",
      "           3       0.79      0.72      0.76        43\n",
      "           4       0.78      1.00      0.88        36\n",
      "           5       0.89      0.76      0.82        41\n",
      "\n",
      "    accuracy                           0.82       120\n",
      "   macro avg       0.82      0.83      0.82       120\n",
      "weighted avg       0.82      0.82      0.81       120\n",
      "\n",
      "[[31  8  4]\n",
      " [ 0 36  0]\n",
      " [ 8  2 31]]\n"
     ]
    }
   ],
   "source": [
    "from sklearn.metrics import classification_report, confusion_matrix, accuracy_score\n",
    "print(classification_report(y_vld, pred))\n",
    "print(confusion_matrix(y_vld, pred))\n",
    "# Logistic 성능은 0.73이였으나 CNN은 0.81이다."
   ]
  },
  {
   "cell_type": "markdown",
   "metadata": {},
   "source": [
    "# 6. Testset 제출 및 Submission file 만들기\n",
    "- 학습되지 않은 Validation 120장을 추가로 학습시킵니다. 이를 Fine Tuning이라 합니다.\n",
    "- Fine Tuning은 간단히 말해서 학습된 모델에 다시 업데이트(학습) 시키는 과정입니다.\n",
    "- 이를 통해 Test data을 예측합니다.\n",
    "- 제출 파일은 numpy array을 저장하여 .npy로 제출해주시기 바랍니다."
   ]
  },
  {
   "cell_type": "code",
   "execution_count": 43,
   "metadata": {},
   "outputs": [],
   "source": [
    "# 다시 one hot encoding 해주기\n",
    "y_vld -= 3\n",
    "y_vld= np_utils.to_categorical(y_vld, 3)"
   ]
  },
  {
   "cell_type": "code",
   "execution_count": 44,
   "metadata": {},
   "outputs": [
    {
     "name": "stdout",
     "output_type": "stream",
     "text": [
      "Epoch 1/10\n",
      "2/2 [==============================] - 0s 50ms/step - loss: 0.4369 - accuracy: 0.8417\n",
      "Epoch 2/10\n",
      "2/2 [==============================] - 0s 50ms/step - loss: 0.3999 - accuracy: 0.8417\n",
      "Epoch 3/10\n",
      "2/2 [==============================] - 0s 47ms/step - loss: 0.4420 - accuracy: 0.8167\n",
      "Epoch 4/10\n",
      "2/2 [==============================] - 0s 46ms/step - loss: 0.4374 - accuracy: 0.8417\n",
      "Epoch 5/10\n",
      "2/2 [==============================] - 0s 56ms/step - loss: 0.3262 - accuracy: 0.8417\n",
      "Epoch 6/10\n",
      "2/2 [==============================] - 0s 55ms/step - loss: 0.3933 - accuracy: 0.8250\n",
      "Epoch 7/10\n",
      "2/2 [==============================] - 0s 58ms/step - loss: 0.3432 - accuracy: 0.8417\n",
      "Epoch 8/10\n",
      "2/2 [==============================] - 0s 49ms/step - loss: 0.3395 - accuracy: 0.8667\n",
      "Epoch 9/10\n",
      "2/2 [==============================] - 0s 49ms/step - loss: 0.3165 - accuracy: 0.8750\n",
      "Epoch 10/10\n",
      "2/2 [==============================] - 0s 64ms/step - loss: 0.2719 - accuracy: 0.8667\n"
     ]
    },
    {
     "data": {
      "text/plain": [
       "<keras.callbacks.History at 0x178caddb208>"
      ]
     },
     "execution_count": 44,
     "metadata": {},
     "output_type": "execute_result"
    }
   ],
   "source": [
    "model.fit(X_vld, y_vld, epochs=10, batch_size=64, verbose=1)"
   ]
  },
  {
   "cell_type": "code",
   "execution_count": 45,
   "metadata": {},
   "outputs": [],
   "source": [
    "X_test = np.load(\"./A34_test_X.npy\") #Train X data loading"
   ]
  },
  {
   "cell_type": "code",
   "execution_count": 46,
   "metadata": {},
   "outputs": [],
   "source": [
    "# final_pred = model.predict_classes(X_test) # Tensorflow 2.5.x\n",
    "final_pred = np.argmax(model.predict(X_test), axis=-1)\n",
    "final_pred+=3"
   ]
  },
  {
   "cell_type": "code",
   "execution_count": 47,
   "metadata": {},
   "outputs": [],
   "source": [
    "# final_pred를 npy로 저장합니다.\n",
    "np.save(\"./submissin_file.npy\", final_pred)"
   ]
  }
 ],
 "metadata": {
  "kernelspec": {
   "display_name": "keras_study",
   "language": "python",
   "name": "keras_study"
  },
  "language_info": {
   "codemirror_mode": {
    "name": "ipython",
    "version": 3
   },
   "file_extension": ".py",
   "mimetype": "text/x-python",
   "name": "python",
   "nbconvert_exporter": "python",
   "pygments_lexer": "ipython3",
   "version": "3.6.5"
  }
 },
 "nbformat": 4,
 "nbformat_minor": 4
}
